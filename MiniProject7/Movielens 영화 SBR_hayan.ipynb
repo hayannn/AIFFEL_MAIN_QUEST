{
 "cells": [
  {
   "cell_type": "markdown",
   "id": "f8cc17c9",
   "metadata": {},
   "source": [
    "# 다음에 볼 영화 예측하기[프로젝트]"
   ]
  },
  {
   "cell_type": "markdown",
   "id": "041b0869",
   "metadata": {},
   "source": [
    "### 필요한 라이브러리 import"
   ]
  },
  {
   "cell_type": "code",
   "execution_count": 1,
   "id": "99acb518",
   "metadata": {},
   "outputs": [],
   "source": [
    "import datetime as dt\n",
    "from pathlib import Path\n",
    "import os\n",
    "import time\n",
    "from datetime import datetime\n",
    "from IPython.display import display\n",
    "\n",
    "import numpy as np\n",
    "import pandas as pd\n",
    "import matplotlib.pyplot as plt\n",
    "import warnings\n",
    "warnings.filterwarnings('ignore')"
   ]
  },
  {
   "cell_type": "markdown",
   "id": "e2e47437",
   "metadata": {},
   "source": [
    "### 데이터셋 로드\n",
    "- 이전의 SessionID의 역할을 UserID가 해줘야 함\n",
    "- Rating 정보 포함\n",
    "  - 직전 영화가 마음에 들었는지 -> 비슷한 영화를 더 고르게 하는 것과 상관이 있을 수 있음\n",
    "  - Rating이 낮은 데이터를 어떻게 처리할지도 고민\n",
    "- Time : UTC Time 정보 포함\n",
    "  - 1970년 1월 1일부터 경과된 초 단위 시간 기재"
   ]
  },
  {
   "cell_type": "code",
   "execution_count": 2,
   "id": "3af2c3c4",
   "metadata": {},
   "outputs": [
    {
     "data": {
      "text/html": [
       "<div>\n",
       "<style scoped>\n",
       "    .dataframe tbody tr th:only-of-type {\n",
       "        vertical-align: middle;\n",
       "    }\n",
       "\n",
       "    .dataframe tbody tr th {\n",
       "        vertical-align: top;\n",
       "    }\n",
       "\n",
       "    .dataframe thead th {\n",
       "        text-align: right;\n",
       "    }\n",
       "</style>\n",
       "<table border=\"1\" class=\"dataframe\">\n",
       "  <thead>\n",
       "    <tr style=\"text-align: right;\">\n",
       "      <th></th>\n",
       "      <th>UserId</th>\n",
       "      <th>ItemId</th>\n",
       "      <th>Rating</th>\n",
       "      <th>Time</th>\n",
       "    </tr>\n",
       "  </thead>\n",
       "  <tbody>\n",
       "    <tr>\n",
       "      <th>31</th>\n",
       "      <td>1</td>\n",
       "      <td>3186</td>\n",
       "      <td>4</td>\n",
       "      <td>978300019</td>\n",
       "    </tr>\n",
       "    <tr>\n",
       "      <th>22</th>\n",
       "      <td>1</td>\n",
       "      <td>1270</td>\n",
       "      <td>5</td>\n",
       "      <td>978300055</td>\n",
       "    </tr>\n",
       "    <tr>\n",
       "      <th>27</th>\n",
       "      <td>1</td>\n",
       "      <td>1721</td>\n",
       "      <td>4</td>\n",
       "      <td>978300055</td>\n",
       "    </tr>\n",
       "    <tr>\n",
       "      <th>37</th>\n",
       "      <td>1</td>\n",
       "      <td>1022</td>\n",
       "      <td>5</td>\n",
       "      <td>978300055</td>\n",
       "    </tr>\n",
       "    <tr>\n",
       "      <th>24</th>\n",
       "      <td>1</td>\n",
       "      <td>2340</td>\n",
       "      <td>3</td>\n",
       "      <td>978300103</td>\n",
       "    </tr>\n",
       "    <tr>\n",
       "      <th>...</th>\n",
       "      <td>...</td>\n",
       "      <td>...</td>\n",
       "      <td>...</td>\n",
       "      <td>...</td>\n",
       "    </tr>\n",
       "    <tr>\n",
       "      <th>1000019</th>\n",
       "      <td>6040</td>\n",
       "      <td>2917</td>\n",
       "      <td>4</td>\n",
       "      <td>997454429</td>\n",
       "    </tr>\n",
       "    <tr>\n",
       "      <th>999988</th>\n",
       "      <td>6040</td>\n",
       "      <td>1921</td>\n",
       "      <td>4</td>\n",
       "      <td>997454464</td>\n",
       "    </tr>\n",
       "    <tr>\n",
       "      <th>1000172</th>\n",
       "      <td>6040</td>\n",
       "      <td>1784</td>\n",
       "      <td>3</td>\n",
       "      <td>997454464</td>\n",
       "    </tr>\n",
       "    <tr>\n",
       "      <th>1000167</th>\n",
       "      <td>6040</td>\n",
       "      <td>161</td>\n",
       "      <td>3</td>\n",
       "      <td>997454486</td>\n",
       "    </tr>\n",
       "    <tr>\n",
       "      <th>1000042</th>\n",
       "      <td>6040</td>\n",
       "      <td>1221</td>\n",
       "      <td>4</td>\n",
       "      <td>998315055</td>\n",
       "    </tr>\n",
       "  </tbody>\n",
       "</table>\n",
       "<p>1000209 rows × 4 columns</p>\n",
       "</div>"
      ],
      "text/plain": [
       "         UserId  ItemId  Rating       Time\n",
       "31            1    3186       4  978300019\n",
       "22            1    1270       5  978300055\n",
       "27            1    1721       4  978300055\n",
       "37            1    1022       5  978300055\n",
       "24            1    2340       3  978300103\n",
       "...         ...     ...     ...        ...\n",
       "1000019    6040    2917       4  997454429\n",
       "999988     6040    1921       4  997454464\n",
       "1000172    6040    1784       3  997454464\n",
       "1000167    6040     161       3  997454486\n",
       "1000042    6040    1221       4  998315055\n",
       "\n",
       "[1000209 rows x 4 columns]"
      ]
     },
     "execution_count": 2,
     "metadata": {},
     "output_type": "execute_result"
    }
   ],
   "source": [
    "data_path = Path(os.getenv('HOME')+'/aiffel/yoochoose/data/') \n",
    "train_path = data_path / 'ratings.dat'\n",
    "\n",
    "def load_data(data_path: Path, nrows=None):\n",
    "    data = pd.read_csv(data_path, sep='::', header=None, usecols=[0, 1, 2, 3], dtype={0: np.int32, 1: np.int32, 2: np.int32}, nrows=nrows)\n",
    "    data.columns = ['UserId', 'ItemId', 'Rating', 'Time']\n",
    "    return data\n",
    "\n",
    "data = load_data(train_path, None)\n",
    "data.sort_values(['UserId', 'Time'], inplace=True)  # data를 id와 시간 순서로 정렬\n",
    "data"
   ]
  },
  {
   "cell_type": "markdown",
   "id": "d879e745",
   "metadata": {},
   "source": [
    "<br>\n",
    "<br>\n",
    "<br>\n",
    "\n",
    "### Step 1. 데이터의 전처리"
   ]
  },
  {
   "cell_type": "markdown",
   "id": "bf89bc45",
   "metadata": {},
   "source": [
    "- ItemId 분포 확인하기\n",
    "  - 중간에 튀는 count가 있기는 하나, 전체적으로 고른 편"
   ]
  },
  {
   "cell_type": "code",
   "execution_count": 5,
   "id": "631cfbca",
   "metadata": {},
   "outputs": [
    {
     "data": {
      "image/png": "[encoded data removed]",
      "text/plain": [
       "<Figure size 432x288 with 1 Axes>"
      ]
     },
     "metadata": {
      "needs_background": "light"
     },
     "output_type": "display_data"
    }
   ],
   "source": [
    "plt.hist(data['ItemId'], bins=100)\n",
    "plt.title(\"Distribution of Items\")\n",
    "plt.xlabel('Item')\n",
    "plt.ylabel('Count')\n",
    "plt.show()"
   ]
  },
  {
   "cell_type": "markdown",
   "id": "03053e47",
   "metadata": {},
   "source": [
    "- Time 분포 확인하기\n",
    "  - 2000년 5월 ~ 2021년 1월까지의 사용량이 가장 많음\n",
    "  - 그러나, 사용량이 줄어든 것을 제외하기보다는 적은 양이지만 포함하는 것으로 우선 시도"
   ]
  },
  {
   "cell_type": "code",
   "execution_count": 6,
   "id": "74302b05",
   "metadata": {},
   "outputs": [
    {
     "data": {
      "image/png": "[encoded data removed]",
      "text/plain": [
       "<Figure size 432x288 with 1 Axes>"
      ]
     },
     "metadata": {
      "needs_background": "light"
     },
     "output_type": "display_data"
    }
   ],
   "source": [
    "plt.hist(data['Time'], bins=30)\n",
    "plt.title(\"Distribution of Timestamps\")\n",
    "plt.xlabel('Time')\n",
    "plt.xticks(rotation=45)\n",
    "plt.ylabel('Count')\n",
    "plt.show()"
   ]
  },
  {
   "cell_type": "markdown",
   "id": "b7fecc5d",
   "metadata": {},
   "source": [
    "- UTC timestamp를 datetime으로 변환하여 사용"
   ]
  },
  {
   "cell_type": "code",
   "execution_count": 3,
   "id": "634d1b8a",
   "metadata": {},
   "outputs": [],
   "source": [
    "data['Time'] = pd.to_datetime(data['Time'], unit='s')\n",
    "data.sort_values(['UserId', 'Time'], inplace=True)"
   ]
  },
  {
   "cell_type": "markdown",
   "id": "cd0af113",
   "metadata": {},
   "source": [
    "- 세션 구성을 보았을 때 30분이 지나면 -> 새로운 세션으로 구분할 수 있도록 초기 설정해보기\n",
    "  - Google Analytics의 경우, 30분을 기준으로 세션을 분리하기 때문에 이에 따라 초기는 30분으로 설정하는 것으로 먼저 생각"
   ]
  },
  {
   "cell_type": "code",
   "execution_count": 4,
   "id": "4653f6cb",
   "metadata": {},
   "outputs": [
    {
     "data": {
      "text/html": [
       "<div>\n",
       "<style scoped>\n",
       "    .dataframe tbody tr th:only-of-type {\n",
       "        vertical-align: middle;\n",
       "    }\n",
       "\n",
       "    .dataframe tbody tr th {\n",
       "        vertical-align: top;\n",
       "    }\n",
       "\n",
       "    .dataframe thead th {\n",
       "        text-align: right;\n",
       "    }\n",
       "</style>\n",
       "<table border=\"1\" class=\"dataframe\">\n",
       "  <thead>\n",
       "    <tr style=\"text-align: right;\">\n",
       "      <th></th>\n",
       "      <th>UserId</th>\n",
       "      <th>ItemId</th>\n",
       "      <th>Rating</th>\n",
       "      <th>Time</th>\n",
       "      <th>SessionId</th>\n",
       "    </tr>\n",
       "  </thead>\n",
       "  <tbody>\n",
       "    <tr>\n",
       "      <th>31</th>\n",
       "      <td>1</td>\n",
       "      <td>3186</td>\n",
       "      <td>4</td>\n",
       "      <td>2000-12-31 22:00:19</td>\n",
       "      <td>0</td>\n",
       "    </tr>\n",
       "    <tr>\n",
       "      <th>22</th>\n",
       "      <td>1</td>\n",
       "      <td>1270</td>\n",
       "      <td>5</td>\n",
       "      <td>2000-12-31 22:00:55</td>\n",
       "      <td>0</td>\n",
       "    </tr>\n",
       "    <tr>\n",
       "      <th>27</th>\n",
       "      <td>1</td>\n",
       "      <td>1721</td>\n",
       "      <td>4</td>\n",
       "      <td>2000-12-31 22:00:55</td>\n",
       "      <td>0</td>\n",
       "    </tr>\n",
       "    <tr>\n",
       "      <th>37</th>\n",
       "      <td>1</td>\n",
       "      <td>1022</td>\n",
       "      <td>5</td>\n",
       "      <td>2000-12-31 22:00:55</td>\n",
       "      <td>0</td>\n",
       "    </tr>\n",
       "    <tr>\n",
       "      <th>24</th>\n",
       "      <td>1</td>\n",
       "      <td>2340</td>\n",
       "      <td>3</td>\n",
       "      <td>2000-12-31 22:01:43</td>\n",
       "      <td>0</td>\n",
       "    </tr>\n",
       "    <tr>\n",
       "      <th>...</th>\n",
       "      <td>...</td>\n",
       "      <td>...</td>\n",
       "      <td>...</td>\n",
       "      <td>...</td>\n",
       "      <td>...</td>\n",
       "    </tr>\n",
       "    <tr>\n",
       "      <th>1000019</th>\n",
       "      <td>6040</td>\n",
       "      <td>2917</td>\n",
       "      <td>4</td>\n",
       "      <td>2001-08-10 14:40:29</td>\n",
       "      <td>7</td>\n",
       "    </tr>\n",
       "    <tr>\n",
       "      <th>999988</th>\n",
       "      <td>6040</td>\n",
       "      <td>1921</td>\n",
       "      <td>4</td>\n",
       "      <td>2001-08-10 14:41:04</td>\n",
       "      <td>7</td>\n",
       "    </tr>\n",
       "    <tr>\n",
       "      <th>1000172</th>\n",
       "      <td>6040</td>\n",
       "      <td>1784</td>\n",
       "      <td>3</td>\n",
       "      <td>2001-08-10 14:41:04</td>\n",
       "      <td>7</td>\n",
       "    </tr>\n",
       "    <tr>\n",
       "      <th>1000167</th>\n",
       "      <td>6040</td>\n",
       "      <td>161</td>\n",
       "      <td>3</td>\n",
       "      <td>2001-08-10 14:41:26</td>\n",
       "      <td>7</td>\n",
       "    </tr>\n",
       "    <tr>\n",
       "      <th>1000042</th>\n",
       "      <td>6040</td>\n",
       "      <td>1221</td>\n",
       "      <td>4</td>\n",
       "      <td>2001-08-20 13:44:15</td>\n",
       "      <td>8</td>\n",
       "    </tr>\n",
       "  </tbody>\n",
       "</table>\n",
       "<p>1000209 rows × 5 columns</p>\n",
       "</div>"
      ],
      "text/plain": [
       "         UserId  ItemId  Rating                Time  SessionId\n",
       "31            1    3186       4 2000-12-31 22:00:19          0\n",
       "22            1    1270       5 2000-12-31 22:00:55          0\n",
       "27            1    1721       4 2000-12-31 22:00:55          0\n",
       "37            1    1022       5 2000-12-31 22:00:55          0\n",
       "24            1    2340       3 2000-12-31 22:01:43          0\n",
       "...         ...     ...     ...                 ...        ...\n",
       "1000019    6040    2917       4 2001-08-10 14:40:29          7\n",
       "999988     6040    1921       4 2001-08-10 14:41:04          7\n",
       "1000172    6040    1784       3 2001-08-10 14:41:04          7\n",
       "1000167    6040     161       3 2001-08-10 14:41:26          7\n",
       "1000042    6040    1221       4 2001-08-20 13:44:15          8\n",
       "\n",
       "[1000209 rows x 5 columns]"
      ]
     },
     "execution_count": 4,
     "metadata": {},
     "output_type": "execute_result"
    }
   ],
   "source": [
    "SESSION_THRESHOLD = pd.Timedelta(minutes=30)\n",
    "\n",
    "data['SessionId'] = (\n",
    "    data.groupby('UserId')['Time']\n",
    "    .apply(lambda x: (x.diff() > SESSION_THRESHOLD).cumsum())\n",
    ")\n",
    "\n",
    "data"
   ]
  },
  {
   "cell_type": "markdown",
   "id": "1a6e2c1c",
   "metadata": {},
   "source": [
    "<br>\n",
    "\n",
    "- 세션 분포 확인"
   ]
  },
  {
   "cell_type": "code",
   "execution_count": 9,
   "id": "f7f3f50a",
   "metadata": {},
   "outputs": [
    {
     "data": {
      "text/plain": [
       "0      606773\n",
       "1      168432\n",
       "2       75115\n",
       "3       35396\n",
       "4       23968\n",
       "        ...  \n",
       "289         1\n",
       "288         1\n",
       "287         1\n",
       "286         1\n",
       "267         1\n",
       "Name: SessionId, Length: 354, dtype: int64"
      ]
     },
     "execution_count": 9,
     "metadata": {},
     "output_type": "execute_result"
    }
   ],
   "source": [
    "data['SessionId'].value_counts()"
   ]
  },
  {
   "cell_type": "markdown",
   "id": "7c9154f9",
   "metadata": {},
   "source": [
    "- 다만, 30분으로 설정을 해도 될지에 대한 여부를 추가 분석해봄\n",
    "  - 30분을 넘어가는 경우는 19123 정도로 다소 작기 때문에 세션을 30분으로 초기 설정해도 무방할 것으로 파악"
   ]
  },
  {
   "cell_type": "code",
   "execution_count": 5,
   "id": "aadf7d4b",
   "metadata": {},
   "outputs": [
    {
     "data": {
      "image/png": "[encoded data removed]",
      "text/plain": [
       "<Figure size 720x432 with 1 Axes>"
      ]
     },
     "metadata": {
      "needs_background": "light"
     },
     "output_type": "display_data"
    },
    {
     "name": "stdout",
     "output_type": "stream",
     "text": [
      "Sessions with time difference <= 30 minutes: 975046\n",
      "Sessions with time difference > 30 minutes: 19123\n"
     ]
    }
   ],
   "source": [
    "# 같은 유저 사이에서의 시간 차이 계산\n",
    "data['Time'] = pd.to_datetime(data['Time'])\n",
    "data['Time_diff'] = data.groupby('UserId')['Time'].diff()\n",
    "\n",
    "time_diff_counts = data['Time_diff'].dt.total_seconds() / 60\n",
    "\n",
    "# 30분 이하와 초과한 경우 구분\n",
    "less_than_30min = time_diff_counts[time_diff_counts <= 30]\n",
    "greater_than_30min = time_diff_counts[time_diff_counts > 30]\n",
    "\n",
    "# 시간 차이 분포 시각화\n",
    "plt.figure(figsize=(10, 6))\n",
    "plt.hist(time_diff_counts, bins=50, edgecolor='black', alpha=0.7)\n",
    "plt.axvline(x=30, color='red', linestyle='--', label=\"30 minutes threshold\")\n",
    "plt.title('Distribution of Time Between Sessions')\n",
    "plt.xlabel('Time Between Sessions (minutes)')\n",
    "plt.ylabel('Frequency')\n",
    "plt.legend()\n",
    "plt.show()\n",
    "\n",
    "# 30분 이하와 초과한 경우의 빈도\n",
    "print(f\"Sessions with time difference <= 30 minutes: {len(less_than_30min)}\")\n",
    "print(f\"Sessions with time difference > 30 minutes: {len(greater_than_30min)}\")"
   ]
  },
  {
   "cell_type": "markdown",
   "id": "6c15e5c4",
   "metadata": {},
   "source": [
    "> 데이터에서 의심스러운 부분\n",
    "- 하나의 UserId가 정확히 같은 시간에 여러 아이템을 조회하는 것이 가능한지 여부\n",
    "  - 대부분의 유저가 이에 해당되기 때문에, 어떻게 해석해서 처리해야할 지에 대해서 고민이 필요해 보임\n",
    "  - Time 기록 자체를 배치 처리하여 이러한 현상이 발생했을 수도 있고, 밀리초 이하 시간 차이를 무시하게 되어 발생한 문제로도 추축해볼 수 있음\n",
    "  - 그게 아니라면, 추천 시스템 자체가 여러 개의 아이템을 동시에 보여주는 경우가 많고, 추천 목록을 스크롤하며 확인하게 될 경우 동시에 기록되는 것이 가능하기 때문에 이러한 데이터가 주로 저장되어 있는 것으로 판단\n"
   ]
  },
  {
   "cell_type": "markdown",
   "id": "e5ce6e2e",
   "metadata": {},
   "source": [
    "<br>\n",
    "\n",
    "- Rating이 낮은 데이터 처리\n",
    "  - 기존의 클릭 기반 분석이 아닌 Rating을 이용한 분석 필요\n",
    "  - 최소, 최댓값, 개수까지 확인하여 최소 개수 설정 시도"
   ]
  },
  {
   "cell_type": "code",
   "execution_count": 11,
   "id": "a627a069",
   "metadata": {},
   "outputs": [
    {
     "data": {
      "text/plain": [
       "4    348971\n",
       "3    261197\n",
       "5    226310\n",
       "2    107557\n",
       "1     56174\n",
       "Name: Rating, dtype: int64"
      ]
     },
     "execution_count": 11,
     "metadata": {},
     "output_type": "execute_result"
    }
   ],
   "source": [
    "data['Rating'].value_counts()"
   ]
  },
  {
   "cell_type": "code",
   "execution_count": 12,
   "id": "7a60912c",
   "metadata": {},
   "outputs": [
    {
     "data": {
      "image/png": "[encoded data removed]",
      "text/plain": [
       "<Figure size 432x288 with 1 Axes>"
      ]
     },
     "metadata": {
      "needs_background": "light"
     },
     "output_type": "display_data"
    }
   ],
   "source": [
    "plt.hist(data['Rating'], bins=5)\n",
    "plt.title(\"Distribution of Ratings\")\n",
    "plt.xlabel('Rating')\n",
    "plt.ylabel('Count')\n",
    "plt.show()"
   ]
  },
  {
   "cell_type": "code",
   "execution_count": 13,
   "id": "afcd996b",
   "metadata": {},
   "outputs": [
    {
     "name": "stdout",
     "output_type": "stream",
     "text": [
      "Rating 최솟값 (1) 개수: 56174\n",
      "Rating 최댓값 (5) 개수: 226310\n"
     ]
    }
   ],
   "source": [
    "min_rating = data[\"Rating\"].min()\n",
    "max_rating = data[\"Rating\"].max()\n",
    "\n",
    "print(f\"Rating 최솟값 ({min_rating}) 개수:\", (data[\"Rating\"] == min_rating).sum())\n",
    "print(f\"Rating 최댓값 ({max_rating}) 개수:\", (data[\"Rating\"] == max_rating).sum())"
   ]
  },
  {
   "cell_type": "code",
   "execution_count": 14,
   "id": "ca9f46fc",
   "metadata": {},
   "outputs": [
    {
     "name": "stdout",
     "output_type": "stream",
     "text": [
      "1     56174\n",
      "2    107557\n",
      "3    261197\n",
      "4    348971\n",
      "5    226310\n",
      "Name: Rating, dtype: int64\n"
     ]
    }
   ],
   "source": [
    "print(data[\"Rating\"].value_counts().sort_index())"
   ]
  },
  {
   "cell_type": "markdown",
   "id": "68cae2e1",
   "metadata": {},
   "source": [
    "- 평점 1과 2의 경우, 다른 평점에 비해 개수가 적은 편에 속해 제거해도 무방할 것으로 판단"
   ]
  },
  {
   "cell_type": "code",
   "execution_count": 6,
   "id": "9b94f132",
   "metadata": {},
   "outputs": [],
   "source": [
    "MIN_RATING = 2\n",
    "filtered_data = data[data['Rating'] >= MIN_RATING]"
   ]
  },
  {
   "cell_type": "markdown",
   "id": "92b2690a",
   "metadata": {},
   "source": [
    "<br>\n",
    "\n",
    "- 세션 길이 분석"
   ]
  },
  {
   "cell_type": "code",
   "execution_count": 8,
   "id": "f343ca55",
   "metadata": {},
   "outputs": [
    {
     "data": {
      "text/plain": [
       "count       351.000000\n",
       "mean       2689.558405\n",
       "std       32032.626937\n",
       "min           1.000000\n",
       "25%           1.000000\n",
       "50%           8.000000\n",
       "75%          36.500000\n",
       "max      573965.000000\n",
       "dtype: float64"
      ]
     },
     "execution_count": 8,
     "metadata": {},
     "output_type": "execute_result"
    }
   ],
   "source": [
    "session_lengths = filtered_data.groupby('SessionId').size()\n",
    "session_lengths.describe()"
   ]
  },
  {
   "cell_type": "markdown",
   "id": "ee1a46d3",
   "metadata": {},
   "source": [
    "<br>\n",
    "\n",
    "- 2개 이하의 아이템을 본 세션의 경우, 사용자가 선호하지 않은 상태로 무작위 접속했을 가능성이 있고. 다음 행동을 예측하는데에 큰 도움이 되지 않을 것으로 판단하여 제거"
   ]
  },
  {
   "cell_type": "code",
   "execution_count": 9,
   "id": "a3c8f32d",
   "metadata": {},
   "outputs": [],
   "source": [
    "MIN_SESSION_LENGTH = 2\n",
    "filtered_data = filtered_data[filtered_data['SessionId'].isin(session_lengths[session_lengths >= MIN_SESSION_LENGTH].index)]"
   ]
  },
  {
   "cell_type": "markdown",
   "id": "43599e46",
   "metadata": {},
   "source": [
    "<br>\n",
    "\n",
    "- 최종 filtered_data 확인"
   ]
  },
  {
   "cell_type": "code",
   "execution_count": 18,
   "id": "4bba1048",
   "metadata": {},
   "outputs": [
    {
     "data": {
      "text/html": [
       "<div>\n",
       "<style scoped>\n",
       "    .dataframe tbody tr th:only-of-type {\n",
       "        vertical-align: middle;\n",
       "    }\n",
       "\n",
       "    .dataframe tbody tr th {\n",
       "        vertical-align: top;\n",
       "    }\n",
       "\n",
       "    .dataframe thead th {\n",
       "        text-align: right;\n",
       "    }\n",
       "</style>\n",
       "<table border=\"1\" class=\"dataframe\">\n",
       "  <thead>\n",
       "    <tr style=\"text-align: right;\">\n",
       "      <th></th>\n",
       "      <th>UserId</th>\n",
       "      <th>ItemId</th>\n",
       "      <th>Rating</th>\n",
       "      <th>Time</th>\n",
       "      <th>SessionId</th>\n",
       "      <th>Time_diff</th>\n",
       "    </tr>\n",
       "  </thead>\n",
       "  <tbody>\n",
       "    <tr>\n",
       "      <th>31</th>\n",
       "      <td>1</td>\n",
       "      <td>3186</td>\n",
       "      <td>4</td>\n",
       "      <td>2000-12-31 22:00:19</td>\n",
       "      <td>0</td>\n",
       "      <td>NaT</td>\n",
       "    </tr>\n",
       "    <tr>\n",
       "      <th>22</th>\n",
       "      <td>1</td>\n",
       "      <td>1270</td>\n",
       "      <td>5</td>\n",
       "      <td>2000-12-31 22:00:55</td>\n",
       "      <td>0</td>\n",
       "      <td>0 days 00:00:36</td>\n",
       "    </tr>\n",
       "    <tr>\n",
       "      <th>27</th>\n",
       "      <td>1</td>\n",
       "      <td>1721</td>\n",
       "      <td>4</td>\n",
       "      <td>2000-12-31 22:00:55</td>\n",
       "      <td>0</td>\n",
       "      <td>0 days 00:00:00</td>\n",
       "    </tr>\n",
       "    <tr>\n",
       "      <th>37</th>\n",
       "      <td>1</td>\n",
       "      <td>1022</td>\n",
       "      <td>5</td>\n",
       "      <td>2000-12-31 22:00:55</td>\n",
       "      <td>0</td>\n",
       "      <td>0 days 00:00:00</td>\n",
       "    </tr>\n",
       "    <tr>\n",
       "      <th>24</th>\n",
       "      <td>1</td>\n",
       "      <td>2340</td>\n",
       "      <td>3</td>\n",
       "      <td>2000-12-31 22:01:43</td>\n",
       "      <td>0</td>\n",
       "      <td>0 days 00:00:48</td>\n",
       "    </tr>\n",
       "    <tr>\n",
       "      <th>...</th>\n",
       "      <td>...</td>\n",
       "      <td>...</td>\n",
       "      <td>...</td>\n",
       "      <td>...</td>\n",
       "      <td>...</td>\n",
       "      <td>...</td>\n",
       "    </tr>\n",
       "    <tr>\n",
       "      <th>1000019</th>\n",
       "      <td>6040</td>\n",
       "      <td>2917</td>\n",
       "      <td>4</td>\n",
       "      <td>2001-08-10 14:40:29</td>\n",
       "      <td>7</td>\n",
       "      <td>0 days 00:00:31</td>\n",
       "    </tr>\n",
       "    <tr>\n",
       "      <th>999988</th>\n",
       "      <td>6040</td>\n",
       "      <td>1921</td>\n",
       "      <td>4</td>\n",
       "      <td>2001-08-10 14:41:04</td>\n",
       "      <td>7</td>\n",
       "      <td>0 days 00:00:35</td>\n",
       "    </tr>\n",
       "    <tr>\n",
       "      <th>1000172</th>\n",
       "      <td>6040</td>\n",
       "      <td>1784</td>\n",
       "      <td>3</td>\n",
       "      <td>2001-08-10 14:41:04</td>\n",
       "      <td>7</td>\n",
       "      <td>0 days 00:00:00</td>\n",
       "    </tr>\n",
       "    <tr>\n",
       "      <th>1000167</th>\n",
       "      <td>6040</td>\n",
       "      <td>161</td>\n",
       "      <td>3</td>\n",
       "      <td>2001-08-10 14:41:26</td>\n",
       "      <td>7</td>\n",
       "      <td>0 days 00:00:22</td>\n",
       "    </tr>\n",
       "    <tr>\n",
       "      <th>1000042</th>\n",
       "      <td>6040</td>\n",
       "      <td>1221</td>\n",
       "      <td>4</td>\n",
       "      <td>2001-08-20 13:44:15</td>\n",
       "      <td>8</td>\n",
       "      <td>9 days 23:02:49</td>\n",
       "    </tr>\n",
       "  </tbody>\n",
       "</table>\n",
       "<p>943946 rows × 6 columns</p>\n",
       "</div>"
      ],
      "text/plain": [
       "         UserId  ItemId  Rating                Time  SessionId       Time_diff\n",
       "31            1    3186       4 2000-12-31 22:00:19          0             NaT\n",
       "22            1    1270       5 2000-12-31 22:00:55          0 0 days 00:00:36\n",
       "27            1    1721       4 2000-12-31 22:00:55          0 0 days 00:00:00\n",
       "37            1    1022       5 2000-12-31 22:00:55          0 0 days 00:00:00\n",
       "24            1    2340       3 2000-12-31 22:01:43          0 0 days 00:00:48\n",
       "...         ...     ...     ...                 ...        ...             ...\n",
       "1000019    6040    2917       4 2001-08-10 14:40:29          7 0 days 00:00:31\n",
       "999988     6040    1921       4 2001-08-10 14:41:04          7 0 days 00:00:35\n",
       "1000172    6040    1784       3 2001-08-10 14:41:04          7 0 days 00:00:00\n",
       "1000167    6040     161       3 2001-08-10 14:41:26          7 0 days 00:00:22\n",
       "1000042    6040    1221       4 2001-08-20 13:44:15          8 9 days 23:02:49\n",
       "\n",
       "[943946 rows x 6 columns]"
      ]
     },
     "execution_count": 18,
     "metadata": {},
     "output_type": "execute_result"
    }
   ],
   "source": [
    "filtered_data"
   ]
  },
  {
   "cell_type": "markdown",
   "id": "a5b02a53",
   "metadata": {},
   "source": [
    "<br>\n",
    "<br>\n",
    "<br>\n",
    "\n",
    "### Step 2. 미니 배치의 구성\n",
    "- 데이터 전처리 과정을 통해 `SessionId`를 생성했기 때문에, 이를 활용하는 방식으로 진행\n",
    "  - 추후, 성능이 잘 나오지 않을 경우, `UserId` 기반으로 변경 시도 예정"
   ]
  },
  {
   "cell_type": "code",
   "execution_count": 19,
   "id": "3390b301",
   "metadata": {},
   "outputs": [
    {
     "name": "stdout",
     "output_type": "stream",
     "text": [
      "Mini batch size: 6109\n"
     ]
    }
   ],
   "source": [
    "# 세션 데이터를 미니 배치로 나누기\n",
    "def generate_mini_batches(filtered_data, batch_size):\n",
    "    sessions = filtered_data['SessionId'].unique()\n",
    "    np.random.shuffle(sessions)\n",
    "    \n",
    "    for i in range(0, len(sessions), batch_size):\n",
    "        batch_sessions = sessions[i:i + batch_size]\n",
    "        yield filtered_data[filtered_data['SessionId'].isin(batch_sessions)]\n",
    "\n",
    "# 미니 배치 생성 테스트\n",
    "batch_size = 64\n",
    "for mini_batch in generate_mini_batches(filtered_data, batch_size):\n",
    "    print(f\"Mini batch size: {len(mini_batch)}\")\n",
    "    break"
   ]
  },
  {
   "cell_type": "code",
   "execution_count": null,
   "id": "a663b330",
   "metadata": {},
   "outputs": [],
   "source": [
    "# # UserId를 사용하고자 할 경우\n",
    "# mini_batches = []\n",
    "\n",
    "# for user_id, group in filtered_data.groupby('UserId'):\n",
    "#     batch = group[['ItemId', 'Rating']].values\n",
    "#     mini_batches.append(batch)"
   ]
  },
  {
   "attachments": {
    "image.png": {
     "image/png": "[encoded data removed]"
    }
   },
   "cell_type": "markdown",
   "id": "ac90a11e",
   "metadata": {},
   "source": [
    "<br>\n",
    "<br>\n",
    "<br>\n",
    "\n",
    "### Step 3. 모델 구성\n",
    "- GRU4Rec 사용(RNN 기반 모델)\n",
    "  - 모델을 변경하는 시도를 할 경우, SASRec 모델 or LSTM4Rec 적용 예정\n",
    "    - 다만 SASRec 모델은 RNN 기반 모델이 아니기 때문에 `GRU4Rec ➡️ LSTM4Rec ➡️ SASRec` 순서로 변경 적용 시도할 예정\n",
    "    - 참고 : [kt NexR 기술블로그_[18] 딥러닝 기반 추천 시스템: kt NexR 기술 블로그 '21 테크리포트](https://tech.nexr.kr/771417b9-e1a0-4c79-8555-0f578c482c25)\n",
    "\n",
    "![image.png](attachment:image.png)"
   ]
  },
  {
   "cell_type": "markdown",
   "id": "39ad85a9",
   "metadata": {},
   "source": [
    "<br>\n",
    "\n",
    "#### GRU4Rec 구성\n",
    "- 고유 아이템 수의 경우, 인덱스가 0부터 시작되는 것을 고려하여 +1 수행\n",
    "- `hidden_size`는 128로 초기 설정\n",
    "- 출력 크기는 아이템 수와 동일하게 설정"
   ]
  },
  {
   "cell_type": "code",
   "execution_count": 14,
   "id": "3223c220",
   "metadata": {},
   "outputs": [
    {
     "data": {
      "text/plain": [
       "GRU4Rec(\n",
       "  (embedding): Embedding(3676, 128)\n",
       "  (gru): GRU(128, 128, batch_first=True)\n",
       "  (fc): Linear(in_features=128, out_features=3676, bias=True)\n",
       ")"
      ]
     },
     "execution_count": 14,
     "metadata": {},
     "output_type": "execute_result"
    }
   ],
   "source": [
    "import torch\n",
    "import torch.nn as nn\n",
    "\n",
    "class GRU4Rec(nn.Module):\n",
    "    def __init__(self, input_size, hidden_size, output_size):\n",
    "        super(GRU4Rec, self).__init__()\n",
    "        self.embedding = nn.Embedding(input_size, hidden_size)\n",
    "        self.gru = nn.GRU(hidden_size, hidden_size, batch_first=True)\n",
    "        self.fc = nn.Linear(hidden_size, output_size)\n",
    "\n",
    "    def forward(self, x):\n",
    "        x = self.embedding(x)\n",
    "        output, _ = self.gru(x)\n",
    "        output = self.fc(output)\n",
    "        return output\n",
    "\n",
    "# 모델 초기화\n",
    "input_size = filtered_data['ItemId'].nunique() + 1\n",
    "hidden_size = 128\n",
    "output_size = input_size\n",
    "\n",
    "model = GRU4Rec(input_size, hidden_size, output_size)\n",
    "\n",
    "model"
   ]
  },
  {
   "cell_type": "markdown",
   "id": "10e0b2b1",
   "metadata": {},
   "source": [
    "<br>\n",
    "<br>\n",
    "<br>\n",
    "\n",
    "### Step 4. 모델 학습\n",
    "- 초기 하이퍼파라미터 설정 후, 실험을 통해 변경하기"
   ]
  },
  {
   "cell_type": "code",
   "execution_count": 15,
   "id": "ba7e0ec4",
   "metadata": {},
   "outputs": [],
   "source": [
    "learning_rate = 0.001\n",
    "epochs = 10\n",
    "loss_fn = nn.CrossEntropyLoss()\n",
    "optimizer = torch.optim.Adam(model.parameters(), lr=learning_rate)\n",
    "batch_size = 64"
   ]
  },
  {
   "cell_type": "markdown",
   "id": "e67c5fd9",
   "metadata": {},
   "source": [
    "- filtered_data에서 train_data 쪼개기"
   ]
  },
  {
   "cell_type": "code",
   "execution_count": 84,
   "id": "072ec9af",
   "metadata": {},
   "outputs": [],
   "source": [
    "train_data = filtered_data[['SessionId', 'ItemId']].groupby('SessionId')['ItemId'].apply(list)"
   ]
  },
  {
   "cell_type": "markdown",
   "id": "50662b8e",
   "metadata": {},
   "source": [
    "- epoch, loss 설정해 학습 진행"
   ]
  },
  {
   "cell_type": "code",
   "execution_count": 18,
   "id": "1d439b01",
   "metadata": {},
   "outputs": [
    {
     "name": "stdout",
     "output_type": "stream",
     "text": [
      "Epoch 1/10, Loss: 89107.96316075325\n",
      "Epoch 2/10, Loss: 82709.32528591156\n",
      "Epoch 3/10, Loss: 80924.81061577797\n",
      "Epoch 4/10, Loss: 79862.96364831924\n",
      "Epoch 5/10, Loss: 79119.63238668442\n",
      "Epoch 6/10, Loss: 78557.52835571766\n",
      "Epoch 7/10, Loss: 78108.93370461464\n",
      "Epoch 8/10, Loss: 77750.60621845722\n",
      "Epoch 9/10, Loss: 77455.04295873642\n",
      "Epoch 10/10, Loss: 77223.18368005753\n"
     ]
    }
   ],
   "source": [
    "for epoch in range(epochs):\n",
    "    total_loss = 0\n",
    "    for session in train_data:\n",
    "        for i in range(0, len(session) - 1, batch_size):\n",
    "            batch_session = session[i:i + batch_size]\n",
    "            inputs = torch.tensor(batch_session[:-1]).unsqueeze(0)  # 마지막 아이템 제외\n",
    "            targets = torch.tensor(batch_session[1:]).unsqueeze(0)  # 첫 번째 아이템 제외\n",
    "\n",
    "            # 아이템 ID가 Embedding 층의 범위를 벗어나지 않게 체크(IndexError 방지)\n",
    "            inputs = torch.clamp(inputs, 0, input_size - 1)\n",
    "            targets = torch.clamp(targets, 0, input_size - 1)\n",
    "            outputs = model(inputs)\n",
    "            loss = loss_fn(outputs.view(-1, output_size), targets.view(-1))\n",
    "\n",
    "            optimizer.zero_grad()\n",
    "            loss.backward()\n",
    "            optimizer.step()\n",
    "\n",
    "            total_loss += loss.item()\n",
    "\n",
    "    print(f\"Epoch {epoch+1}/{epochs}, Loss: {total_loss}\")"
   ]
  },
  {
   "cell_type": "markdown",
   "id": "559325bd",
   "metadata": {},
   "source": [
    "- Loss값이 다소 크게 나옴 ➡️ 학습률이 다소 크지 않을까 추측됨, 따라서 학습률을 낮추기 위해 옵티마이저를 1e-4정도로 줄여보는 시도를 할 수 있을 것으로 보임\n",
    "  - 우선, 모델 테스트부터 진행"
   ]
  },
  {
   "cell_type": "markdown",
   "id": "44c8503e",
   "metadata": {},
   "source": [
    "<br>\n",
    "<br>\n",
    "<br>\n",
    "\n",
    "### Step 5. 모델 테스트(1)\n",
    "- 데이터에서 별도로 검증 데이터를 분리하지 않고, 테스트 데이터로 평가할 예정!"
   ]
  },
  {
   "cell_type": "code",
   "execution_count": 21,
   "id": "afa877bd",
   "metadata": {},
   "outputs": [],
   "source": [
    "# 평가 지표 계산 (Recall@K, MRR@K)\n",
    "def recall_mrr_k(model, test_data, k=20):\n",
    "    recalls = []\n",
    "    mrrs = []\n",
    "    for session in test_data:\n",
    "        inputs = torch.tensor(session[:-1]).unsqueeze(0)\n",
    "        targets = session[1:]\n",
    "\n",
    "        # 아이템 ID가 Embedding 층의 범위를 벗어나지 않게 처리\n",
    "        inputs = torch.clamp(inputs, 0, input_size - 1)\n",
    "        \n",
    "        outputs = model(inputs).squeeze(0).detach().numpy()\n",
    "        top_k = np.argsort(outputs, axis=1)[:, -k:]\n",
    "\n",
    "        for i, target in enumerate(targets):\n",
    "            if target in top_k[i]:\n",
    "                recalls.append(1)\n",
    "                rank = np.where(top_k[i] == target)[0][0] + 1\n",
    "                mrrs.append(1 / rank)\n",
    "            else:\n",
    "                recalls.append(0)\n",
    "                mrrs.append(0)\n",
    "\n",
    "    return np.mean(recalls), np.mean(mrrs)"
   ]
  },
  {
   "cell_type": "code",
   "execution_count": 22,
   "id": "50505121",
   "metadata": {},
   "outputs": [
    {
     "name": "stdout",
     "output_type": "stream",
     "text": [
      "Recall@20: 0.3607, MRR@20: 0.0448\n"
     ]
    }
   ],
   "source": [
    "# 테스트 데이터로 평가\n",
    "test_data = train_data.sample(frac=0.2)\n",
    "recall, mrr = recall_mrr_k(model, test_data)\n",
    "print(f\"Recall@20: {recall:.4f}, MRR@20: {mrr:.4f}\")"
   ]
  },
  {
   "cell_type": "markdown",
   "id": "b185024b",
   "metadata": {},
   "source": [
    "#### 1차 모델링 결과\n",
    "- `Recall@20`이 약 36% 정도로 나왔고, 아주 낮지는 않지만 높다고 볼 수 없는 성능임.\n",
    "- `MRR@20`의 경우, 평균적인 수치를 낸 것으로 판단."
   ]
  },
  {
   "cell_type": "markdown",
   "id": "44b28378",
   "metadata": {},
   "source": [
    "<br>\n",
    "<br>\n",
    "<br>\n",
    "\n",
    "### Step 5. 모델 테스트(2)\n",
    "#### 세션 기준 변경 및 하이퍼파라미터 변경 후 재시도\n",
    "- 세션 기준을 1시간으로 변경해보기"
   ]
  },
  {
   "cell_type": "code",
   "execution_count": 85,
   "id": "9d90cc52",
   "metadata": {},
   "outputs": [],
   "source": [
    "SESSION_THRESHOLD = pd.Timedelta(minutes=60)"
   ]
  },
  {
   "cell_type": "code",
   "execution_count": 24,
   "id": "fb2df7c9",
   "metadata": {},
   "outputs": [],
   "source": [
    "# learning_rate = 0.0005\n",
    "epochs = 10\n",
    "loss_fn = nn.CrossEntropyLoss()\n",
    "optimizer = torch.optim.Adam(model.parameters(), lr=1e-4) # lr 줄이기\n",
    "batch_size = 64\n",
    "dropout_rate = 0.2 # 드롭아웃 적용"
   ]
  },
  {
   "cell_type": "code",
   "execution_count": 20,
   "id": "69745256",
   "metadata": {},
   "outputs": [],
   "source": [
    "train_data = filtered_data[['SessionId', 'ItemId']].groupby('SessionId')['ItemId'].apply(list)"
   ]
  },
  {
   "cell_type": "code",
   "execution_count": 26,
   "id": "1b872970",
   "metadata": {},
   "outputs": [
    {
     "name": "stdout",
     "output_type": "stream",
     "text": [
      "Epoch 1/10, Loss: 75599.8981936872\n",
      "Epoch 2/10, Loss: 74279.6155655384\n",
      "Epoch 3/10, Loss: 73859.07812801003\n",
      "Epoch 4/10, Loss: 73594.73442906141\n",
      "Epoch 5/10, Loss: 73395.75992369652\n",
      "Epoch 6/10, Loss: 73229.43417394161\n",
      "Epoch 7/10, Loss: 73086.51083016396\n",
      "Epoch 8/10, Loss: 72956.94933849573\n",
      "Epoch 9/10, Loss: 72840.42700362206\n",
      "Epoch 10/10, Loss: 72729.29730373621\n"
     ]
    }
   ],
   "source": [
    "for epoch in range(epochs):\n",
    "    total_loss = 0\n",
    "    for session in train_data:\n",
    "        for i in range(0, len(session) - 1, batch_size):\n",
    "            batch_session = session[i:i + batch_size]\n",
    "            inputs = torch.tensor(batch_session[:-1]).unsqueeze(0)  # 마지막 아이템 제외\n",
    "            targets = torch.tensor(batch_session[1:]).unsqueeze(0)  # 첫 번째 아이템 제외\n",
    "\n",
    "            # 아이템 ID가 Embedding 층의 범위를 벗어나지 않게 체크(IndexError 방지)\n",
    "            inputs = torch.clamp(inputs, 0, input_size - 1)\n",
    "            targets = torch.clamp(targets, 0, input_size - 1)\n",
    "            outputs = model(inputs)\n",
    "            loss = loss_fn(outputs.view(-1, output_size), targets.view(-1))\n",
    "\n",
    "            optimizer.zero_grad()\n",
    "            loss.backward()\n",
    "            optimizer.step()\n",
    "\n",
    "            total_loss += loss.item()\n",
    "\n",
    "    print(f\"Epoch {epoch+1}/{epochs}, Loss: {total_loss}\")"
   ]
  },
  {
   "cell_type": "code",
   "execution_count": 34,
   "id": "f6bc35cd",
   "metadata": {},
   "outputs": [
    {
     "name": "stdout",
     "output_type": "stream",
     "text": [
      "Recall@20: 0.3999, MRR@20: 0.0469\n"
     ]
    }
   ],
   "source": [
    "# 평가 지표 계산 (Recall@K, MRR@K)\n",
    "def recall_mrr_k(model, test_data, k=20):\n",
    "    recalls = []\n",
    "    mrrs = []\n",
    "    for session in test_data:\n",
    "        inputs = torch.tensor(session[:-1]).unsqueeze(0)\n",
    "        targets = session[1:]\n",
    "\n",
    "        # 아이템 ID가 Embedding 층의 범위를 벗어나지 않게 처리\n",
    "        inputs = torch.clamp(inputs, 0, input_size - 1)\n",
    "        \n",
    "        outputs = model(inputs).squeeze(0).detach().numpy()\n",
    "        top_k = np.argsort(outputs, axis=1)[:, -k:]\n",
    "\n",
    "        for i, target in enumerate(targets):\n",
    "            if target in top_k[i]:\n",
    "                recalls.append(1)\n",
    "                rank = np.where(top_k[i] == target)[0][0] + 1\n",
    "                mrrs.append(1 / rank)\n",
    "            else:\n",
    "                recalls.append(0)\n",
    "                mrrs.append(0)\n",
    "\n",
    "    return np.mean(recalls), np.mean(mrrs)\n",
    "\n",
    "# 테스트 데이터로 평가\n",
    "test_data = train_data.sample(frac=0.2)\n",
    "recall, mrr = recall_mrr_k(model, test_data)\n",
    "print(f\"Recall@20: {recall:.4f}, MRR@20: {mrr:.4f}\")"
   ]
  },
  {
   "cell_type": "markdown",
   "id": "807ec9af",
   "metadata": {},
   "source": [
    "<br>\n",
    "<br>\n",
    "<br>\n",
    "\n",
    "### Step 5. 모델 테스트(3)\n",
    "- 모델 변경 : `GRU4Rec` ➡️ `LSTM4Rec`\n",
    "  - 하이퍼파라미터는 동일한 파라미터는 2번과 동일하게 고정하고, 모델에 따라 추가되는 파라미터는 별도로 추가"
   ]
  },
  {
   "cell_type": "code",
   "execution_count": 88,
   "id": "4bd2ce55",
   "metadata": {},
   "outputs": [],
   "source": [
    "import torch\n",
    "import torch.nn as nn\n",
    "\n",
    "class LSTM4Rec(nn.Module):\n",
    "    def __init__(self, input_size, embedding_size, hidden_size, output_size, dropout_rate=0.2, num_layers=1):\n",
    "        super(LSTM4Rec, self).__init__()\n",
    "\n",
    "        self.embedding = nn.Embedding(input_size, embedding_size)\n",
    "        self.lstm = nn.LSTM(embedding_size, hidden_size, num_layers=num_layers, batch_first=True, dropout=dropout_rate)\n",
    "        self.dropout = nn.Dropout(dropout_rate)\n",
    "        self.fc = nn.Linear(hidden_size, output_size)\n",
    "    \n",
    "    def forward(self, x):\n",
    "        x = self.embedding(x)\n",
    "        x, (hn, cn) = self.lstm(x)\n",
    "        x = self.dropout(x)\n",
    "        x = self.fc(x)  # 시퀀스 전체에 대해 예측을 수행 (배치 크기, 시퀀스 길이, 출력 크기)\n",
    "        return x"
   ]
  },
  {
   "cell_type": "code",
   "execution_count": 89,
   "id": "f40a168a",
   "metadata": {},
   "outputs": [],
   "source": [
    "vocab = sorted(set(data['ItemId'].values))"
   ]
  },
  {
   "cell_type": "code",
   "execution_count": 90,
   "id": "9bcf7b86",
   "metadata": {},
   "outputs": [],
   "source": [
    "model = LSTM4Rec(input_size, embedding_size, hidden_size, output_size, dropout_rate, num_layers)"
   ]
  },
  {
   "cell_type": "code",
   "execution_count": 91,
   "id": "f85a8c77",
   "metadata": {},
   "outputs": [],
   "source": [
    "epochs = 10\n",
    "input_size = len(vocab)  # 아이템의 수 (vocab 크기)\n",
    "output_size = len(vocab)  # 출력 크기 (아이템 수)\n",
    "\n",
    "embedding_size = 128\n",
    "hidden_size = 128\n",
    "batch_size = 64\n",
    "\n",
    "dropout_rate = 0.2\n",
    "num_layers = 1  # LSTM 레이어 수\n",
    "optimizer = torch.optim.Adam(model.parameters(), lr=1e-4)"
   ]
  },
  {
   "cell_type": "code",
   "execution_count": 27,
   "id": "4d8b31da",
   "metadata": {},
   "outputs": [
    {
     "name": "stdout",
     "output_type": "stream",
     "text": [
      "Epoch 1/10, Loss: 105693.45828819275\n",
      "Epoch 2/10, Loss: 96765.48223376274\n",
      "Epoch 3/10, Loss: 92241.21271586418\n",
      "Epoch 4/10, Loss: 89728.75692796707\n",
      "Epoch 5/10, Loss: 88064.23286986351\n",
      "Epoch 6/10, Loss: 86876.81271195412\n",
      "Epoch 7/10, Loss: 85950.3028459549\n",
      "Epoch 8/10, Loss: 85198.7843079567\n",
      "Epoch 9/10, Loss: 84588.54621386528\n",
      "Epoch 10/10, Loss: 84065.55984950066\n"
     ]
    }
   ],
   "source": [
    "# # 손실 함수\n",
    "# loss_fn = nn.CrossEntropyLoss()\n",
    "\n",
    "# # 학습\n",
    "# for epoch in range(epochs):\n",
    "#     total_loss = 0\n",
    "#     for session in train_data:\n",
    "#         for i in range(0, len(session) - 1, batch_size):\n",
    "#             batch_session = session[i:i + batch_size]\n",
    "#             inputs = torch.tensor(batch_session[:-1])\n",
    "#             targets = torch.tensor(batch_session[1:])\n",
    "\n",
    "#             # 아이템 ID가 Embedding layer 범위 내에 있도록 조정(IndexError 방지)\n",
    "#             inputs = torch.clamp(inputs, 0, input_size - 1)\n",
    "#             targets = torch.clamp(targets, 0, input_size - 1)\n",
    "\n",
    "#             # LSTM 입력에 맞게 차원 맞추기\n",
    "#             inputs = inputs.unsqueeze(0)\n",
    "#             targets = targets.unsqueeze(0)\n",
    "\n",
    "#             outputs = model(inputs)\n",
    "\n",
    "#             outputs = outputs.view(-1, output_size)\n",
    "#             targets = targets.view(-1)\n",
    "\n",
    "#             loss = loss_fn(outputs, targets)\n",
    "\n",
    "#             optimizer.zero_grad()\n",
    "#             loss.backward()\n",
    "#             optimizer.step()\n",
    "\n",
    "#             total_loss += loss.item()\n",
    "\n",
    "#     print(f\"Epoch {epoch+1}/{epochs}, Loss: {total_loss}\")"
   ]
  },
  {
   "cell_type": "code",
   "execution_count": 93,
   "id": "55843bd1",
   "metadata": {},
   "outputs": [
    {
     "name": "stdout",
     "output_type": "stream",
     "text": [
      "Epoch 1/10, Loss: 87926.24275875092\n",
      "Epoch 2/10, Loss: 86820.9829890728\n",
      "Epoch 3/10, Loss: 85924.01674580574\n",
      "Epoch 4/10, Loss: 85189.65595126152\n",
      "Epoch 5/10, Loss: 84559.53745746613\n",
      "Epoch 6/10, Loss: 84053.89250636101\n",
      "Epoch 7/10, Loss: 83605.34282183647\n",
      "Epoch 8/10, Loss: 83224.61079335213\n",
      "Epoch 9/10, Loss: 82857.94791293144\n",
      "Epoch 10/10, Loss: 82548.3940346241\n"
     ]
    }
   ],
   "source": [
    "# 커널 이슈로 재실행\n",
    "# 손실 함수\n",
    "loss_fn = nn.CrossEntropyLoss()\n",
    "\n",
    "# 학습\n",
    "for epoch in range(epochs):\n",
    "    total_loss = 0\n",
    "    for session in train_data:\n",
    "        for i in range(0, len(session) - 1, batch_size):\n",
    "            batch_session = session[i:i + batch_size]\n",
    "            inputs = torch.tensor(batch_session[:-1])\n",
    "            targets = torch.tensor(batch_session[1:])\n",
    "\n",
    "            # 아이템 ID가 Embedding layer 범위 내에 있도록 조정(IndexError 방지)\n",
    "            inputs = torch.clamp(inputs, 0, input_size - 1)\n",
    "            targets = torch.clamp(targets, 0, input_size - 1)\n",
    "\n",
    "            # LSTM 입력에 맞게 차원 맞추기\n",
    "            inputs = inputs.unsqueeze(0)\n",
    "            targets = targets.unsqueeze(0)\n",
    "\n",
    "            outputs = model(inputs)\n",
    "\n",
    "            outputs = outputs.view(-1, output_size)\n",
    "            targets = targets.view(-1)\n",
    "\n",
    "            loss = loss_fn(outputs, targets)\n",
    "\n",
    "            optimizer.zero_grad()\n",
    "            loss.backward()\n",
    "            optimizer.step()\n",
    "\n",
    "            total_loss += loss.item()\n",
    "\n",
    "    print(f\"Epoch {epoch+1}/{epochs}, Loss: {total_loss}\")"
   ]
  },
  {
   "cell_type": "markdown",
   "id": "414b7aaf",
   "metadata": {},
   "source": [
    "- 메모리 초과 이슈\n",
    "  - 배치 unsqueeze를 0으로 지정, 모델에 맞게 불필요한 코드 삭제하여 재실행"
   ]
  },
  {
   "cell_type": "code",
   "execution_count": 97,
   "id": "01f39302",
   "metadata": {},
   "outputs": [],
   "source": [
    "# 평가 지표 계산 (Recall@K, MRR@K)\n",
    "def recall_mrr_k(model, test_data, k=20):\n",
    "    recalls = []\n",
    "    mrrs = []\n",
    "    for session in test_data:\n",
    "        # 세션을 모델에 맞게 처리\n",
    "        inputs = torch.tensor(session[:-1]).unsqueeze(0)  # Add batch and time dimension\n",
    "        targets = session[1:]\n",
    "\n",
    "        # 아이템 ID가 Embedding 층의 범위를 벗어나지 않게 처리\n",
    "        inputs = torch.clamp(inputs, 0, input_size - 1)\n",
    "        \n",
    "        # 모델 출력 계산\n",
    "        outputs = model(inputs).squeeze(0).detach().numpy()\n",
    "\n",
    "        # Top-k 예측 값 추출 (NumPy를 사용한 효율적인 연산)\n",
    "        top_k = np.argsort(outputs)[-k:]\n",
    "\n",
    "        for i, target in enumerate(targets):\n",
    "            if target in top_k:\n",
    "                recalls.append(1)\n",
    "                rank = np.where(top_k == target)[0][0] + 1\n",
    "                mrrs.append(1 / rank)\n",
    "            else:\n",
    "                recalls.append(0)\n",
    "                mrrs.append(0)\n",
    "\n",
    "    return np.mean(recalls), np.mean(mrrs)"
   ]
  },
  {
   "cell_type": "markdown",
   "id": "332551fe",
   "metadata": {},
   "source": [
    "- 실행 시, 커널이 중지되는 이슈가 있어 추후 해결할 예정😅"
   ]
  },
  {
   "cell_type": "code",
   "execution_count": null,
   "id": "bd860916",
   "metadata": {},
   "outputs": [],
   "source": [
    "# 테스트 데이터로 평가\n",
    "test_data = train_data.sample(frac=0.2)\n",
    "test_data_list = test_data.tolist()\n",
    "recall, mrr = recall_mrr_k(model, test_data_list)\n",
    "print(f\"Recall@20: {recall:.4f}, MRR@20: {mrr:.4f}\")"
   ]
  },
  {
   "cell_type": "markdown",
   "id": "6c82374e",
   "metadata": {},
   "source": [
    "<br>\n",
    "<br>\n",
    "<br>\n",
    "\n",
    "### Step 5. 모델 테스트(4)\n",
    "- 모델 : `GRU4Rec` 이용\n",
    "- 드롭아웃을 0.2에서 0.1로 감소시키기\n",
    "- learning_rate를 동적으로 조정하는 방식을 적용\n",
    "  - `torch.optim.lr_scheduler`"
   ]
  },
  {
   "cell_type": "code",
   "execution_count": 21,
   "id": "17b65263",
   "metadata": {},
   "outputs": [],
   "source": [
    "SESSION_THRESHOLD = pd.Timedelta(minutes=60)"
   ]
  },
  {
   "cell_type": "code",
   "execution_count": 23,
   "id": "f4d095e2",
   "metadata": {},
   "outputs": [
    {
     "data": {
      "text/plain": [
       "GRU4Rec(\n",
       "  (embedding): Embedding(3676, 128)\n",
       "  (gru): GRU(128, 128, batch_first=True)\n",
       "  (fc): Linear(in_features=128, out_features=3676, bias=True)\n",
       ")"
      ]
     },
     "execution_count": 23,
     "metadata": {},
     "output_type": "execute_result"
    }
   ],
   "source": [
    "import torch\n",
    "import torch.nn as nn\n",
    "\n",
    "class GRU4Rec(nn.Module):\n",
    "    def __init__(self, input_size, hidden_size, output_size):\n",
    "        super(GRU4Rec, self).__init__()\n",
    "        self.embedding = nn.Embedding(input_size, hidden_size)\n",
    "        self.gru = nn.GRU(hidden_size, hidden_size, batch_first=True)\n",
    "        self.fc = nn.Linear(hidden_size, output_size)\n",
    "\n",
    "    def forward(self, x):\n",
    "        x = self.embedding(x)\n",
    "        output, _ = self.gru(x)\n",
    "        output = self.fc(output)\n",
    "        return output\n",
    "\n",
    "# 모델 초기화\n",
    "input_size = filtered_data['ItemId'].nunique() + 1\n",
    "hidden_size = 128\n",
    "output_size = input_size\n",
    "\n",
    "model = GRU4Rec(input_size, hidden_size, output_size)\n",
    "\n",
    "model"
   ]
  },
  {
   "cell_type": "code",
   "execution_count": 27,
   "id": "1ea3e6cc",
   "metadata": {},
   "outputs": [],
   "source": [
    "epochs = 10\n",
    "loss_fn = nn.CrossEntropyLoss()\n",
    "batch_size = 64\n",
    "dropout_rate = 0.1 # 드롭아웃 적용\n",
    "\n",
    "learning_rate = 1e-4\n",
    "optimizer = torch.optim.Adam(model.parameters(), lr=learning_rate) # lr 줄이기\n",
    "scheduler = torch.optim.lr_scheduler.ReduceLROnPlateau(optimizer, mode='min', factor=0.5, patience=2)"
   ]
  },
  {
   "cell_type": "code",
   "execution_count": 30,
   "id": "31ed3302",
   "metadata": {},
   "outputs": [],
   "source": [
    "train_data = filtered_data[['SessionId', 'ItemId']].groupby('SessionId')['ItemId'].apply(list)"
   ]
  },
  {
   "cell_type": "code",
   "execution_count": 30,
   "id": "60e8b289",
   "metadata": {},
   "outputs": [
    {
     "name": "stdout",
     "output_type": "stream",
     "text": [
      "Epoch 1/10, Loss: 104159.39842271805\n",
      "Epoch 2/10, Loss: 94633.57082772255\n",
      "Epoch 3/10, Loss: 90191.1409676075\n",
      "Epoch 4/10, Loss: 87655.85948181152\n",
      "Epoch 5/10, Loss: 85975.47580695152\n",
      "Epoch 6/10, Loss: 84753.35161876678\n",
      "Epoch 7/10, Loss: 83802.76826190948\n",
      "Epoch 8/10, Loss: 83030.18741965294\n",
      "Epoch 9/10, Loss: 82380.90259933472\n",
      "Epoch 10/10, Loss: 81820.9533610344\n"
     ]
    }
   ],
   "source": [
    "for epoch in range(epochs):\n",
    "    total_loss = 0\n",
    "    for session in train_data:\n",
    "        for i in range(0, len(session) - 1, batch_size):\n",
    "            batch_session = session[i:i + batch_size]\n",
    "            inputs = torch.tensor(batch_session[:-1]).unsqueeze(0)  # 마지막 아이템 제외\n",
    "            targets = torch.tensor(batch_session[1:]).unsqueeze(0)  # 첫 번째 아이템 제외\n",
    "\n",
    "            # 아이템 ID가 Embedding 층의 범위를 벗어나지 않게 체크(IndexError 방지)\n",
    "            inputs = torch.clamp(inputs, 0, input_size - 1)\n",
    "            targets = torch.clamp(targets, 0, input_size - 1)\n",
    "            \n",
    "            # inputs = inputs.unsqueeze(2)\n",
    "            targets = targets.squeeze(0).view(-1)\n",
    "            \n",
    "            outputs = model(inputs)\n",
    "            loss = loss_fn(outputs.view(-1, output_size), targets)\n",
    "\n",
    "            optimizer.zero_grad()\n",
    "            loss.backward()\n",
    "            optimizer.step()\n",
    "\n",
    "            total_loss += loss.item()\n",
    "    \n",
    "    scheduler.step(total_loss)\n",
    "\n",
    "    print(f\"Epoch {epoch+1}/{epochs}, Loss: {total_loss}\")"
   ]
  },
  {
   "cell_type": "code",
   "execution_count": 31,
   "id": "d614c459",
   "metadata": {},
   "outputs": [],
   "source": [
    "# 평가 지표 계산 (Recall@K, MRR@K)\n",
    "def recall_mrr_k(model, test_data, k=20):\n",
    "    recalls = []\n",
    "    mrrs = []\n",
    "    for session in test_data:\n",
    "        inputs = torch.tensor(session[:-1]).unsqueeze(0)\n",
    "        targets = session[1:]\n",
    "\n",
    "        # 아이템 ID가 Embedding 층의 범위를 벗어나지 않게 처리\n",
    "        inputs = torch.clamp(inputs, 0, input_size - 1)\n",
    "        \n",
    "        outputs = model(inputs).squeeze(0).detach().numpy()\n",
    "        top_k = np.argsort(outputs, axis=1)[:, -k:]\n",
    "\n",
    "        for i, target in enumerate(targets):\n",
    "            if target in top_k[i]:\n",
    "                recalls.append(1)\n",
    "                rank = np.where(top_k[i] == target)[0][0] + 1\n",
    "                mrrs.append(1 / rank)\n",
    "            else:\n",
    "                recalls.append(0)\n",
    "                mrrs.append(0)\n",
    "\n",
    "    return np.mean(recalls), np.mean(mrrs)"
   ]
  },
  {
   "cell_type": "code",
   "execution_count": 32,
   "id": "1e1dc85c",
   "metadata": {},
   "outputs": [
    {
     "name": "stdout",
     "output_type": "stream",
     "text": [
      "Recall@20: 0.2417, MRR@20: 0.0328\n"
     ]
    }
   ],
   "source": [
    "# 테스트 데이터로 평가\n",
    "test_data = train_data.sample(frac=0.2)\n",
    "recall, mrr = recall_mrr_k(model, test_data)\n",
    "print(f\"Recall@20: {recall:.4f}, MRR@20: {mrr:.4f}\")"
   ]
  },
  {
   "cell_type": "markdown",
   "id": "7eb17a5a",
   "metadata": {},
   "source": [
    "<br>\n",
    "<br>\n",
    "<br>\n",
    "\n",
    "#### 번외) 데이터 전처리 추가_일부 데이터만을 이용해 빠르게 학습 + 코드 리팩토링(함수화)\n",
    "- Time 컬럼에서 2000년 5월 ~ 2021년 1월까지의 데이터만 사용\n",
    "- ItemId의 이상치 제거: count가 30000이상인 데이터 삭제\n",
    "- 세션은 30분으로 설정\n",
    "- GRU4Rec 모델 사용\n",
    "- 미니 배치 사용\n",
    "```python\n",
    "# 세션 데이터를 미니 배치로 나누기\n",
    "def generate_mini_batches(filtered_data, batch_size):\n",
    "    sessions = filtered_data['SessionId'].unique()\n",
    "    np.random.shuffle(sessions)\n",
    "    \n",
    "    for i in range(0, len(sessions), batch_size):\n",
    "        batch_sessions = sessions[i:i + batch_size]\n",
    "        yield filtered_data[filtered_data['SessionId'].isin(batch_sessions)]\n",
    "# 미니 배치 생성 테스트\n",
    "batch_size = 64\n",
    "for mini_batch in generate_mini_batches(filtered_data, batch_size):\n",
    "    print(f\"Mini batch size: {len(mini_batch)}\")\n",
    "    break\n",
    "```"
   ]
  },
  {
   "cell_type": "code",
   "execution_count": 10,
   "id": "8e9edb31",
   "metadata": {},
   "outputs": [],
   "source": [
    "# 2000년 5월 ~ 2021년 1월 사이의 데이터만 필터링\n",
    "filtered_data = filtered_data[(filtered_data['Time'] >= '2000-05-01') & (filtered_data['Time'] <= '2021-01-31')]"
   ]
  },
  {
   "cell_type": "code",
   "execution_count": 11,
   "id": "b5944d52",
   "metadata": {},
   "outputs": [],
   "source": [
    "# 각 ItemId의 등장 횟수를 계산\n",
    "item_counts = filtered_data['ItemId'].value_counts()\n",
    "\n",
    "# 등장 횟수가 30000 이상인 ItemId를 필터링\n",
    "valid_item_ids = item_counts[item_counts < 30000].index\n",
    "filtered_data = filtered_data[filtered_data['ItemId'].isin(valid_item_ids)]"
   ]
  },
  {
   "cell_type": "code",
   "execution_count": 12,
   "id": "f94e4c23",
   "metadata": {},
   "outputs": [],
   "source": [
    "# 세션 데이터에 대해 Time을 기준으로 그룹화하고 30분 간격으로 나누기\n",
    "filtered_data['Time_diff'] = filtered_data.groupby('SessionId')['Time'].diff().fillna(pd.Timedelta(seconds=0))\n",
    "filtered_data['New_SessionId'] = (filtered_data['Time_diff'] > pd.Timedelta(minutes=30)).cumsum() + 1\n",
    "\n",
    "# 새로운 세션 ID로 데이터 그룹화\n",
    "filtered_data['SessionId'] = filtered_data['New_SessionId']\n",
    "filtered_data = filtered_data.drop(columns=['Time_diff', 'New_SessionId'])"
   ]
  },
  {
   "cell_type": "code",
   "execution_count": 13,
   "id": "9c24fe68",
   "metadata": {},
   "outputs": [
    {
     "data": {
      "text/html": [
       "<div>\n",
       "<style scoped>\n",
       "    .dataframe tbody tr th:only-of-type {\n",
       "        vertical-align: middle;\n",
       "    }\n",
       "\n",
       "    .dataframe tbody tr th {\n",
       "        vertical-align: top;\n",
       "    }\n",
       "\n",
       "    .dataframe thead th {\n",
       "        text-align: right;\n",
       "    }\n",
       "</style>\n",
       "<table border=\"1\" class=\"dataframe\">\n",
       "  <thead>\n",
       "    <tr style=\"text-align: right;\">\n",
       "      <th></th>\n",
       "      <th>UserId</th>\n",
       "      <th>ItemId</th>\n",
       "      <th>Rating</th>\n",
       "      <th>Time</th>\n",
       "      <th>SessionId</th>\n",
       "    </tr>\n",
       "  </thead>\n",
       "  <tbody>\n",
       "    <tr>\n",
       "      <th>31</th>\n",
       "      <td>1</td>\n",
       "      <td>3186</td>\n",
       "      <td>4</td>\n",
       "      <td>2000-12-31 22:00:19</td>\n",
       "      <td>1</td>\n",
       "    </tr>\n",
       "    <tr>\n",
       "      <th>22</th>\n",
       "      <td>1</td>\n",
       "      <td>1270</td>\n",
       "      <td>5</td>\n",
       "      <td>2000-12-31 22:00:55</td>\n",
       "      <td>1</td>\n",
       "    </tr>\n",
       "    <tr>\n",
       "      <th>27</th>\n",
       "      <td>1</td>\n",
       "      <td>1721</td>\n",
       "      <td>4</td>\n",
       "      <td>2000-12-31 22:00:55</td>\n",
       "      <td>1</td>\n",
       "    </tr>\n",
       "    <tr>\n",
       "      <th>37</th>\n",
       "      <td>1</td>\n",
       "      <td>1022</td>\n",
       "      <td>5</td>\n",
       "      <td>2000-12-31 22:00:55</td>\n",
       "      <td>1</td>\n",
       "    </tr>\n",
       "    <tr>\n",
       "      <th>24</th>\n",
       "      <td>1</td>\n",
       "      <td>2340</td>\n",
       "      <td>3</td>\n",
       "      <td>2000-12-31 22:01:43</td>\n",
       "      <td>1</td>\n",
       "    </tr>\n",
       "    <tr>\n",
       "      <th>...</th>\n",
       "      <td>...</td>\n",
       "      <td>...</td>\n",
       "      <td>...</td>\n",
       "      <td>...</td>\n",
       "      <td>...</td>\n",
       "    </tr>\n",
       "    <tr>\n",
       "      <th>1000019</th>\n",
       "      <td>6040</td>\n",
       "      <td>2917</td>\n",
       "      <td>4</td>\n",
       "      <td>2001-08-10 14:40:29</td>\n",
       "      <td>9171</td>\n",
       "    </tr>\n",
       "    <tr>\n",
       "      <th>999988</th>\n",
       "      <td>6040</td>\n",
       "      <td>1921</td>\n",
       "      <td>4</td>\n",
       "      <td>2001-08-10 14:41:04</td>\n",
       "      <td>9171</td>\n",
       "    </tr>\n",
       "    <tr>\n",
       "      <th>1000172</th>\n",
       "      <td>6040</td>\n",
       "      <td>1784</td>\n",
       "      <td>3</td>\n",
       "      <td>2001-08-10 14:41:04</td>\n",
       "      <td>9171</td>\n",
       "    </tr>\n",
       "    <tr>\n",
       "      <th>1000167</th>\n",
       "      <td>6040</td>\n",
       "      <td>161</td>\n",
       "      <td>3</td>\n",
       "      <td>2001-08-10 14:41:26</td>\n",
       "      <td>9171</td>\n",
       "    </tr>\n",
       "    <tr>\n",
       "      <th>1000042</th>\n",
       "      <td>6040</td>\n",
       "      <td>1221</td>\n",
       "      <td>4</td>\n",
       "      <td>2001-08-20 13:44:15</td>\n",
       "      <td>9172</td>\n",
       "    </tr>\n",
       "  </tbody>\n",
       "</table>\n",
       "<p>933089 rows × 5 columns</p>\n",
       "</div>"
      ],
      "text/plain": [
       "         UserId  ItemId  Rating                Time  SessionId\n",
       "31            1    3186       4 2000-12-31 22:00:19          1\n",
       "22            1    1270       5 2000-12-31 22:00:55          1\n",
       "27            1    1721       4 2000-12-31 22:00:55          1\n",
       "37            1    1022       5 2000-12-31 22:00:55          1\n",
       "24            1    2340       3 2000-12-31 22:01:43          1\n",
       "...         ...     ...     ...                 ...        ...\n",
       "1000019    6040    2917       4 2001-08-10 14:40:29       9171\n",
       "999988     6040    1921       4 2001-08-10 14:41:04       9171\n",
       "1000172    6040    1784       3 2001-08-10 14:41:04       9171\n",
       "1000167    6040     161       3 2001-08-10 14:41:26       9171\n",
       "1000042    6040    1221       4 2001-08-20 13:44:15       9172\n",
       "\n",
       "[933089 rows x 5 columns]"
      ]
     },
     "execution_count": 13,
     "metadata": {},
     "output_type": "execute_result"
    }
   ],
   "source": [
    "filtered_data"
   ]
  },
  {
   "cell_type": "code",
   "execution_count": 14,
   "id": "88229e23",
   "metadata": {},
   "outputs": [
    {
     "name": "stdout",
     "output_type": "stream",
     "text": [
      "Mini batch size: 5896\n"
     ]
    }
   ],
   "source": [
    "# 미니 배치 생성 함수\n",
    "def generate_mini_batches(filtered_data, batch_size):\n",
    "    sessions = filtered_data['SessionId'].unique()\n",
    "    np.random.shuffle(sessions)\n",
    "\n",
    "    for i in range(0, len(sessions), batch_size):\n",
    "        batch_sessions = sessions[i:i + batch_size]\n",
    "        yield filtered_data[filtered_data['SessionId'].isin(batch_sessions)]\n",
    "\n",
    "# 미니 배치 생성 테스트\n",
    "batch_size = 64\n",
    "for mini_batch in generate_mini_batches(filtered_data, batch_size):\n",
    "    print(f\"Mini batch size: {len(mini_batch)}\")\n",
    "    break"
   ]
  },
  {
   "cell_type": "code",
   "execution_count": 21,
   "id": "149b6937",
   "metadata": {},
   "outputs": [],
   "source": [
    "epochs = 10\n",
    "batch_size = 64\n",
    "embedding_size = 50\n",
    "hidden_size = 128\n",
    "learning_rate = 1e-4\n",
    "output_size = input_size"
   ]
  },
  {
   "cell_type": "code",
   "execution_count": 23,
   "id": "b1533dfd",
   "metadata": {},
   "outputs": [],
   "source": [
    "import torch\n",
    "import torch.nn as nn\n",
    "\n",
    "class GRU4Rec(nn.Module):\n",
    "    def __init__(self, input_size, embedding_size, hidden_size, output_size, dropout_rate=0.1):\n",
    "        super(GRU4Rec, self).__init__()\n",
    "        \n",
    "        # Embedding Layer\n",
    "        self.embedding = nn.Embedding(input_size, embedding_size)\n",
    "        \n",
    "        # GRU Layer\n",
    "        self.gru = nn.GRU(embedding_size, hidden_size, batch_first=True, dropout=dropout_rate)\n",
    "        \n",
    "        # Fully Connected Layer\n",
    "        self.fc = nn.Linear(hidden_size, output_size)\n",
    "    \n",
    "    def forward(self, x):\n",
    "        # x: [batch_size, sequence_length]\n",
    "        x = self.embedding(x)\n",
    "        output, _ = self.gru(x)\n",
    "        output = self.fc(output[:, -1, :])  # 마지막 시퀀스만 쓰기\n",
    "        return output"
   ]
  },
  {
   "cell_type": "code",
   "execution_count": 24,
   "id": "4733029b",
   "metadata": {},
   "outputs": [],
   "source": [
    "model = GRU4Rec(input_size=input_size, embedding_size=embedding_size, hidden_size=hidden_size, output_size=output_size)\n",
    "loss_fn = nn.CrossEntropyLoss()\n",
    "optimizer = torch.optim.Adam(model.parameters(), lr=learning_rate)"
   ]
  },
  {
   "cell_type": "code",
   "execution_count": 27,
   "id": "0746c8cc",
   "metadata": {},
   "outputs": [],
   "source": [
    "def train(model, train_data, optimizer, loss_fn, batch_size, input_size, output_size, epochs):\n",
    "    for epoch in range(epochs):\n",
    "        total_loss = 0\n",
    "        for session in train_data:\n",
    "            for i in range(0, len(session) - 1, batch_size):\n",
    "                batch_session = session[i:i + batch_size]\n",
    "\n",
    "                # 배치 크기가 batch_size보다 작은 경우를 처리\n",
    "                if len(batch_session) < batch_size:\n",
    "                    continue  # 배치 크기가 작으면 해당 배치를 건너뜁니다.\n",
    "\n",
    "                inputs = torch.tensor(batch_session[:-1])  # 마지막 아이템 제외\n",
    "                targets = torch.tensor(batch_session[1:])  # 첫 번째 아이템 제외\n",
    "\n",
    "                # 아이템 ID가 Embedding 층의 범위를 벗어나지 않게 체크(IndexError 방지)\n",
    "                inputs = torch.clamp(inputs, 0, input_size - 1)\n",
    "                targets = torch.clamp(targets, 0, input_size - 1)\n",
    "\n",
    "                # 배치 차원 추가\n",
    "                batch_size_actual = len(batch_session) - 1  # 실제 배치 크기\n",
    "                inputs = inputs.view(batch_size_actual, -1)  # 실제 배치 크기에 맞게 뷰 수정\n",
    "                targets = targets.view(-1)  # 타겟은 1차원 벡터로 변환\n",
    "\n",
    "                # 모델 출력은 (batch_size, sequence_length, output_size) 형태\n",
    "                outputs = model(inputs)\n",
    "\n",
    "                # outputs를 (batch_size * sequence_length, output_size) 형태로 reshape\n",
    "                outputs = outputs.view(-1, output_size)\n",
    "\n",
    "                # 손실 계산\n",
    "                loss = loss_fn(outputs, targets)\n",
    "\n",
    "                optimizer.zero_grad()\n",
    "                loss.backward()\n",
    "                optimizer.step()\n",
    "\n",
    "                total_loss += loss.item()\n",
    "\n",
    "        # Epoch마다 출력\n",
    "        print(f\"Epoch {epoch+1}/{epochs}, Loss: {total_loss:.4f}\")"
   ]
  },
  {
   "cell_type": "code",
   "execution_count": 28,
   "id": "87f9cb0c",
   "metadata": {},
   "outputs": [],
   "source": [
    "# 성능 평가를 수행하는 함수\n",
    "def evaluate(model, test_data, k=20):\n",
    "    recall, mrr = recall_mrr_k(model, test_data, k)  # Recall@k, MRR@k 계산\n",
    "    return recall, mrr"
   ]
  },
  {
   "cell_type": "code",
   "execution_count": 31,
   "id": "e3f16ffb",
   "metadata": {},
   "outputs": [
    {
     "name": "stdout",
     "output_type": "stream",
     "text": [
      "Epoch 1/10, Loss: 92102.7699\n",
      "Epoch 2/10, Loss: 88855.4000\n",
      "Epoch 3/10, Loss: 86167.9288\n",
      "Epoch 4/10, Loss: 84127.9231\n",
      "Epoch 5/10, Loss: 82708.3322\n",
      "Epoch 6/10, Loss: 81661.1278\n",
      "Epoch 7/10, Loss: 80853.2084\n",
      "Epoch 8/10, Loss: 80207.3839\n",
      "Epoch 9/10, Loss: 79675.4203\n",
      "Epoch 10/10, Loss: 79226.3202\n"
     ]
    }
   ],
   "source": [
    "# 학습을 시작하는 부분\n",
    "train(model, train_data, optimizer, loss_fn, batch_size, input_size, output_size, epochs)"
   ]
  },
  {
   "cell_type": "code",
   "execution_count": 33,
   "id": "ef0e9e5f",
   "metadata": {},
   "outputs": [
    {
     "name": "stdout",
     "output_type": "stream",
     "text": [
      "Recall@20: 20.6930, MRR@20: 2.5885\n"
     ]
    }
   ],
   "source": [
    "import torch\n",
    "import numpy as np\n",
    "\n",
    "def recall_mrr_k(model, test_data, k=20):\n",
    "    recall = 0.0\n",
    "    mrr = 0.0\n",
    "    num_samples = len(test_data)\n",
    "    \n",
    "    # 임베딩 크기 확인 (가장 큰 인덱스를 구함)\n",
    "    max_index = model.embedding.num_embeddings - 1\n",
    "    \n",
    "    for session in test_data:\n",
    "        inputs = torch.tensor(session[:-1], dtype=torch.long)  # dtype 추가\n",
    "        targets = torch.tensor(session[1:], dtype=torch.long)  # dtype 추가\n",
    "\n",
    "        # 인덱스를 임베딩 범위 내로 클리핑\n",
    "        max_index = model.embedding.num_embeddings - 1\n",
    "        inputs = torch.clamp(inputs, 0, max_index)\n",
    "        inputs = inputs.unsqueeze(-1)\n",
    "\n",
    "        outputs = model(inputs).squeeze(0).detach().numpy()\n",
    "\n",
    "        if len(outputs.shape) == 1:\n",
    "            outputs = outputs.reshape(1, -1)\n",
    "\n",
    "        top_k = np.argsort(outputs, axis=1)[:, -k:]\n",
    "\n",
    "        for i, target in enumerate(targets):\n",
    "            target_idx = np.where(top_k[i] == target.item())[0]\n",
    "            if len(target_idx) > 0:\n",
    "                recall += 1.0\n",
    "                mrr += 1.0 / (target_idx[0] + 1)\n",
    "\n",
    "    recall /= num_samples\n",
    "    mrr /= num_samples\n",
    "    \n",
    "    return recall, mrr\n",
    "\n",
    "# 테스트 데이터로 평가\n",
    "test_data = train_data.sample(frac=0.2)\n",
    "recall, mrr = recall_mrr_k(model, test_data)\n",
    "print(f\"Recall@20: {recall:.4f}, MRR@20: {mrr:.4f}\")"
   ]
  },
  {
   "cell_type": "markdown",
   "id": "59cb25a3",
   "metadata": {},
   "source": [
    "<br>\n",
    "<br>\n",
    "<br>\n",
    "\n",
    "- 그리드서치, 랜덤 서치의 경우 시간이 오래 걸려, Optuna로 빠르게 하이퍼파라미터 튜닝 시도"
   ]
  },
  {
   "cell_type": "code",
   "execution_count": 35,
   "id": "0092db66",
   "metadata": {},
   "outputs": [
    {
     "name": "stdout",
     "output_type": "stream",
     "text": [
      "Collecting optuna\n",
      "  Downloading optuna-4.2.0-py3-none-any.whl (383 kB)\n",
      "     |████████████████████████████████| 383 kB 4.5 MB/s            \n",
      "\u001b[?25hRequirement already satisfied: PyYAML in /opt/conda/lib/python3.9/site-packages (from optuna) (6.0)\n",
      "Collecting sqlalchemy>=1.4.2\n",
      "  Downloading SQLAlchemy-2.0.37-cp39-cp39-manylinux_2_17_x86_64.manylinux2014_x86_64.whl (3.1 MB)\n",
      "     |████████████████████████████████| 3.1 MB 92.4 MB/s            \n",
      "\u001b[?25hRequirement already satisfied: tqdm in /opt/conda/lib/python3.9/site-packages (from optuna) (4.62.3)\n",
      "Requirement already satisfied: numpy in /opt/conda/lib/python3.9/site-packages (from optuna) (1.21.4)\n",
      "Requirement already satisfied: packaging>=20.0 in /opt/conda/lib/python3.9/site-packages (from optuna) (21.3)\n",
      "Collecting colorlog\n",
      "  Downloading colorlog-6.9.0-py3-none-any.whl (11 kB)\n",
      "Collecting alembic>=1.5.0\n",
      "  Downloading alembic-1.14.1-py3-none-any.whl (233 kB)\n",
      "     |████████████████████████████████| 233 kB 70.1 MB/s            \n",
      "\u001b[?25hRequirement already satisfied: typing-extensions>=4 in /opt/conda/lib/python3.9/site-packages (from alembic>=1.5.0->optuna) (4.0.1)\n",
      "Collecting Mako\n",
      "  Downloading Mako-1.3.8-py3-none-any.whl (78 kB)\n",
      "     |████████████████████████████████| 78 kB 12.9 MB/s            \n",
      "\u001b[?25hRequirement already satisfied: pyparsing!=3.0.5,>=2.0.2 in /opt/conda/lib/python3.9/site-packages (from packaging>=20.0->optuna) (3.0.6)\n",
      "Collecting typing-extensions>=4\n",
      "  Downloading typing_extensions-4.12.2-py3-none-any.whl (37 kB)\n",
      "Collecting greenlet!=0.4.17\n",
      "  Downloading greenlet-3.1.1-cp39-cp39-manylinux_2_24_x86_64.manylinux_2_28_x86_64.whl (597 kB)\n",
      "     |████████████████████████████████| 597 kB 64.8 MB/s            \n",
      "\u001b[?25hRequirement already satisfied: MarkupSafe>=0.9.2 in /opt/conda/lib/python3.9/site-packages (from Mako->alembic>=1.5.0->optuna) (2.0.1)\n",
      "Installing collected packages: typing-extensions, greenlet, sqlalchemy, Mako, colorlog, alembic, optuna\n",
      "  Attempting uninstall: typing-extensions\n",
      "    Found existing installation: typing-extensions 4.0.1\n",
      "    Uninstalling typing-extensions-4.0.1:\n",
      "      Successfully uninstalled typing-extensions-4.0.1\n",
      "\u001b[31mERROR: pip's dependency resolver does not currently take into account all the packages that are installed. This behaviour is the source of the following dependency conflicts.\n",
      "tensorflow-gpu 2.6.0 requires numpy~=1.19.2, but you have numpy 1.21.4 which is incompatible.\n",
      "tensorflow-gpu 2.6.0 requires six~=1.15.0, but you have six 1.16.0 which is incompatible.\n",
      "tensorflow-gpu 2.6.0 requires typing-extensions~=3.7.4, but you have typing-extensions 4.12.2 which is incompatible.\u001b[0m\n",
      "Successfully installed Mako-1.3.8 alembic-1.14.1 colorlog-6.9.0 greenlet-3.1.1 optuna-4.2.0 sqlalchemy-2.0.37 typing-extensions-4.12.2\n",
      "\u001b[33mWARNING: Running pip as the 'root' user can result in broken permissions and conflicting behaviour with the system package manager. It is recommended to use a virtual environment instead: https://pip.pypa.io/warnings/venv\u001b[0m\n"
     ]
    }
   ],
   "source": [
    "!pip install optuna"
   ]
  },
  {
   "cell_type": "code",
   "execution_count": 36,
   "id": "d5bb1b5b",
   "metadata": {},
   "outputs": [
    {
     "name": "stderr",
     "output_type": "stream",
     "text": [
      "[I 2025-01-20 10:06:36,962] A new study created in memory with name: no-name-3dfbff0f-dab7-4a21-9832-d525fb00e692\n",
      "[I 2025-01-20 10:19:51,748] Trial 0 finished with value: 14.252453653217012 and parameters: {'learning_rate': 3.246181938615428e-05, 'batch_size': 32, 'hidden_size': 502, 'num_layers': 1, 'epochs': 6}. Best is trial 0 with value: 14.252453653217012.\n",
      "[I 2025-01-20 10:22:13,954] Trial 1 finished with value: 21.064885496183205 and parameters: {'learning_rate': 0.0014894415574204425, 'batch_size': 64, 'hidden_size': 147, 'num_layers': 1, 'epochs': 20}. Best is trial 1 with value: 21.064885496183205.\n",
      "[I 2025-01-20 10:34:03,189] Trial 2 finished with value: 11.90567066521265 and parameters: {'learning_rate': 3.700759775528409e-05, 'batch_size': 32, 'hidden_size': 380, 'num_layers': 2, 'epochs': 7}. Best is trial 1 with value: 21.064885496183205.\n",
      "[I 2025-01-20 10:36:36,681] Trial 3 finished with value: 5.127044711014177 and parameters: {'learning_rate': 1.8990005923606406e-05, 'batch_size': 64, 'hidden_size': 135, 'num_layers': 2, 'epochs': 13}. Best is trial 1 with value: 21.064885496183205.\n",
      "[I 2025-01-20 10:41:56,427] Trial 4 finished with value: 7.293893129770993 and parameters: {'learning_rate': 2.6124315416224168e-05, 'batch_size': 32, 'hidden_size': 218, 'num_layers': 1, 'epochs': 16}. Best is trial 1 with value: 21.064885496183205.\n",
      "[I 2025-01-20 10:43:36,368] Trial 5 finished with value: 6.20174482006543 and parameters: {'learning_rate': 0.0360896882630207, 'batch_size': 64, 'hidden_size': 66, 'num_layers': 1, 'epochs': 20}. Best is trial 1 with value: 21.064885496183205.\n",
      "[I 2025-01-20 10:59:34,307] Trial 6 finished with value: 3.8473282442748094 and parameters: {'learning_rate': 0.026282204523931728, 'batch_size': 64, 'hidden_size': 456, 'num_layers': 3, 'epochs': 12}. Best is trial 1 with value: 21.064885496183205.\n",
      "[I 2025-01-20 11:01:45,899] Trial 7 finished with value: 5.102508178844056 and parameters: {'learning_rate': 1.672172658928719e-05, 'batch_size': 128, 'hidden_size': 171, 'num_layers': 2, 'epochs': 8}. Best is trial 1 with value: 21.064885496183205.\n",
      "[I 2025-01-20 11:03:56,305] Trial 8 finished with value: 11.056706652126499 and parameters: {'learning_rate': 0.014800484792457533, 'batch_size': 64, 'hidden_size': 129, 'num_layers': 1, 'epochs': 6}. Best is trial 1 with value: 21.064885496183205.\n",
      "[I 2025-01-20 11:12:48,780] Trial 9 finished with value: 20.251908396946565 and parameters: {'learning_rate': 0.001257482329793965, 'batch_size': 32, 'hidden_size': 297, 'num_layers': 2, 'epochs': 9}. Best is trial 1 with value: 21.064885496183205.\n",
      "[I 2025-01-20 11:16:48,582] Trial 10 finished with value: 19.22519083969466 and parameters: {'learning_rate': 0.0008048373017140229, 'batch_size': 128, 'hidden_size': 287, 'num_layers': 3, 'epochs': 20}. Best is trial 1 with value: 21.064885496183205.\n",
      "[I 2025-01-20 11:26:08,615] Trial 11 finished with value: 20.318429661941114 and parameters: {'learning_rate': 0.0012226726370397497, 'batch_size': 32, 'hidden_size': 308, 'num_layers': 2, 'epochs': 10}. Best is trial 1 with value: 21.064885496183205.\n",
      "[I 2025-01-20 11:31:59,186] Trial 12 finished with value: 19.749727371864775 and parameters: {'learning_rate': 0.001176464645335347, 'batch_size': 64, 'hidden_size': 278, 'num_layers': 3, 'epochs': 11}. Best is trial 1 with value: 21.064885496183205.\n",
      "[I 2025-01-20 11:41:41,195] Trial 13 finished with value: 22.71919302071974 and parameters: {'learning_rate': 0.00031165724881510823, 'batch_size': 32, 'hidden_size': 386, 'num_layers': 1, 'epochs': 15}. Best is trial 13 with value: 22.71919302071974.\n",
      "[I 2025-01-20 11:45:30,125] Trial 14 finished with value: 17.80970556161396 and parameters: {'learning_rate': 0.00014615902143551288, 'batch_size': 128, 'hidden_size': 408, 'num_layers': 1, 'epochs': 17}. Best is trial 13 with value: 22.71919302071974.\n",
      "[I 2025-01-20 11:51:07,378] Trial 15 finished with value: 22.113958560523447 and parameters: {'learning_rate': 0.0002524954696184708, 'batch_size': 64, 'hidden_size': 378, 'num_layers': 1, 'epochs': 15}. Best is trial 13 with value: 22.71919302071974.\n",
      "[I 2025-01-20 12:00:31,031] Trial 16 finished with value: 22.136859323882224 and parameters: {'learning_rate': 0.00018798001195633225, 'batch_size': 32, 'hidden_size': 376, 'num_layers': 1, 'epochs': 15}. Best is trial 13 with value: 22.71919302071974.\n",
      "[I 2025-01-20 12:09:30,239] Trial 17 finished with value: 13.28298800436205 and parameters: {'learning_rate': 0.006113482403701442, 'batch_size': 32, 'hidden_size': 356, 'num_layers': 1, 'epochs': 14}. Best is trial 13 with value: 22.71919302071974.\n",
      "[I 2025-01-20 12:20:50,920] Trial 18 finished with value: 21.65648854961832 and parameters: {'learning_rate': 0.0001259971523141743, 'batch_size': 32, 'hidden_size': 433, 'num_layers': 1, 'epochs': 18}. Best is trial 13 with value: 22.71919302071974.\n",
      "[I 2025-01-20 12:38:26,597] Trial 19 finished with value: 21.334787350054526 and parameters: {'learning_rate': 0.00029223187268776195, 'batch_size': 32, 'hidden_size': 499, 'num_layers': 2, 'epochs': 18}. Best is trial 13 with value: 22.71919302071974.\n",
      "[I 2025-01-20 12:46:56,775] Trial 20 finished with value: 16.019083969465647 and parameters: {'learning_rate': 6.519939689213047e-05, 'batch_size': 32, 'hidden_size': 335, 'num_layers': 1, 'epochs': 14}. Best is trial 13 with value: 22.71919302071974.\n",
      "[I 2025-01-20 12:57:05,860] Trial 21 finished with value: 22.735005452562703 and parameters: {'learning_rate': 0.0003940252326285291, 'batch_size': 32, 'hidden_size': 401, 'num_layers': 1, 'epochs': 16}. Best is trial 21 with value: 22.735005452562703.\n",
      "[I 2025-01-20 13:08:41,753] Trial 22 finished with value: 22.676663031624862 and parameters: {'learning_rate': 0.0004878315256526597, 'batch_size': 32, 'hidden_size': 445, 'num_layers': 1, 'epochs': 16}. Best is trial 21 with value: 22.735005452562703.\n",
      "[I 2025-01-20 13:20:33,973] Trial 23 finished with value: 15.476553980370774 and parameters: {'learning_rate': 0.004150817773914298, 'batch_size': 32, 'hidden_size': 452, 'num_layers': 1, 'epochs': 17}. Best is trial 21 with value: 22.735005452562703.\n",
      "[I 2025-01-20 13:34:22,868] Trial 24 finished with value: 21.23773173391494 and parameters: {'learning_rate': 0.0004350757058928737, 'batch_size': 32, 'hidden_size': 417, 'num_layers': 2, 'epochs': 16}. Best is trial 21 with value: 22.735005452562703.\n",
      "[I 2025-01-20 13:53:05,095] Trial 25 finished with value: 4.503271537622683 and parameters: {'learning_rate': 0.09504815143795484, 'batch_size': 32, 'hidden_size': 461, 'num_layers': 1, 'epochs': 13}. Best is trial 21 with value: 22.735005452562703.\n",
      "[I 2025-01-20 13:55:26,989] Trial 26 finished with value: 20.932933478735006 and parameters: {'learning_rate': 0.000513435937325197, 'batch_size': 128, 'hidden_size': 238, 'num_layers': 1, 'epochs': 18}. Best is trial 21 with value: 22.735005452562703.\n",
      "[I 2025-01-20 14:12:04,440] Trial 27 finished with value: 19.932933478735006 and parameters: {'learning_rate': 9.734032533716748e-05, 'batch_size': 32, 'hidden_size': 484, 'num_layers': 2, 'epochs': 15}. Best is trial 21 with value: 22.735005452562703.\n",
      "[W 2025-01-20 14:12:47,626] Trial 28 failed with parameters: {'learning_rate': 0.0028360097072320962, 'batch_size': 32, 'hidden_size': 406, 'num_layers': 1, 'epochs': 12} because of the following error: KeyboardInterrupt().\n",
      "Traceback (most recent call last):\n",
      "  File \"/opt/conda/lib/python3.9/site-packages/optuna/study/_optimize.py\", line 197, in _run_trial\n",
      "    value_or_values = func(trial)\n",
      "  File \"/tmp/ipykernel_146/3614496921.py\", line 76, in objective\n",
      "    total_loss = train(model, train_data, optimizer, loss_fn, batch_size, epochs)\n",
      "  File \"/tmp/ipykernel_146/3614496921.py\", line 50, in train\n",
      "    optimizer.step()\n",
      "  File \"/opt/conda/lib/python3.9/site-packages/torch/optim/optimizer.py\", line 88, in wrapper\n",
      "    return func(*args, **kwargs)\n",
      "  File \"/opt/conda/lib/python3.9/site-packages/torch/autograd/grad_mode.py\", line 28, in decorate_context\n",
      "    return func(*args, **kwargs)\n",
      "  File \"/opt/conda/lib/python3.9/site-packages/torch/optim/adam.py\", line 107, in step\n",
      "    F.adam(params_with_grad,\n",
      "  File \"/opt/conda/lib/python3.9/site-packages/torch/optim/_functional.py\", line 94, in adam\n",
      "    denom = (exp_avg_sq.sqrt() / math.sqrt(bias_correction2)).add_(eps)\n",
      "KeyboardInterrupt\n",
      "[W 2025-01-20 14:12:47,776] Trial 28 failed with value None.\n"
     ]
    },
    {
     "ename": "KeyboardInterrupt",
     "evalue": "",
     "output_type": "error",
     "traceback": [
      "\u001b[0;31m---------------------------------------------------------------------------\u001b[0m",
      "\u001b[0;31mKeyboardInterrupt\u001b[0m                         Traceback (most recent call last)",
      "\u001b[0;32m/tmp/ipykernel_146/3614496921.py\u001b[0m in \u001b[0;36m<module>\u001b[0;34m\u001b[0m\n\u001b[1;32m     82\u001b[0m \u001b[0;31m# Optuna의 연구 객체 생성\u001b[0m\u001b[0;34m\u001b[0m\u001b[0;34m\u001b[0m\u001b[0m\n\u001b[1;32m     83\u001b[0m \u001b[0mstudy\u001b[0m \u001b[0;34m=\u001b[0m \u001b[0moptuna\u001b[0m\u001b[0;34m.\u001b[0m\u001b[0mcreate_study\u001b[0m\u001b[0;34m(\u001b[0m\u001b[0mdirection\u001b[0m\u001b[0;34m=\u001b[0m\u001b[0;34m'maximize'\u001b[0m\u001b[0;34m)\u001b[0m  \u001b[0;31m# maximize로 성능을 최대화\u001b[0m\u001b[0;34m\u001b[0m\u001b[0;34m\u001b[0m\u001b[0m\n\u001b[0;32m---> 84\u001b[0;31m \u001b[0mstudy\u001b[0m\u001b[0;34m.\u001b[0m\u001b[0moptimize\u001b[0m\u001b[0;34m(\u001b[0m\u001b[0mobjective\u001b[0m\u001b[0;34m,\u001b[0m \u001b[0mn_trials\u001b[0m\u001b[0;34m=\u001b[0m\u001b[0;36m50\u001b[0m\u001b[0;34m)\u001b[0m  \u001b[0;31m# 50번의 실험 진행\u001b[0m\u001b[0;34m\u001b[0m\u001b[0;34m\u001b[0m\u001b[0m\n\u001b[0m\u001b[1;32m     85\u001b[0m \u001b[0;34m\u001b[0m\u001b[0m\n\u001b[1;32m     86\u001b[0m \u001b[0;31m# 최적의 하이퍼파라미터 출력\u001b[0m\u001b[0;34m\u001b[0m\u001b[0;34m\u001b[0m\u001b[0m\n",
      "\u001b[0;32m/opt/conda/lib/python3.9/site-packages/optuna/study/study.py\u001b[0m in \u001b[0;36moptimize\u001b[0;34m(self, func, n_trials, timeout, n_jobs, catch, callbacks, gc_after_trial, show_progress_bar)\u001b[0m\n\u001b[1;32m    473\u001b[0m                 \u001b[0mIf\u001b[0m \u001b[0mnested\u001b[0m \u001b[0minvocation\u001b[0m \u001b[0mof\u001b[0m \u001b[0mthis\u001b[0m \u001b[0mmethod\u001b[0m \u001b[0moccurs\u001b[0m\u001b[0;34m.\u001b[0m\u001b[0;34m\u001b[0m\u001b[0;34m\u001b[0m\u001b[0m\n\u001b[1;32m    474\u001b[0m         \"\"\"\n\u001b[0;32m--> 475\u001b[0;31m         _optimize(\n\u001b[0m\u001b[1;32m    476\u001b[0m             \u001b[0mstudy\u001b[0m\u001b[0;34m=\u001b[0m\u001b[0mself\u001b[0m\u001b[0;34m,\u001b[0m\u001b[0;34m\u001b[0m\u001b[0;34m\u001b[0m\u001b[0m\n\u001b[1;32m    477\u001b[0m             \u001b[0mfunc\u001b[0m\u001b[0;34m=\u001b[0m\u001b[0mfunc\u001b[0m\u001b[0;34m,\u001b[0m\u001b[0;34m\u001b[0m\u001b[0;34m\u001b[0m\u001b[0m\n",
      "\u001b[0;32m/opt/conda/lib/python3.9/site-packages/optuna/study/_optimize.py\u001b[0m in \u001b[0;36m_optimize\u001b[0;34m(study, func, n_trials, timeout, n_jobs, catch, callbacks, gc_after_trial, show_progress_bar)\u001b[0m\n\u001b[1;32m     61\u001b[0m     \u001b[0;32mtry\u001b[0m\u001b[0;34m:\u001b[0m\u001b[0;34m\u001b[0m\u001b[0;34m\u001b[0m\u001b[0m\n\u001b[1;32m     62\u001b[0m         \u001b[0;32mif\u001b[0m \u001b[0mn_jobs\u001b[0m \u001b[0;34m==\u001b[0m \u001b[0;36m1\u001b[0m\u001b[0;34m:\u001b[0m\u001b[0;34m\u001b[0m\u001b[0;34m\u001b[0m\u001b[0m\n\u001b[0;32m---> 63\u001b[0;31m             _optimize_sequential(\n\u001b[0m\u001b[1;32m     64\u001b[0m                 \u001b[0mstudy\u001b[0m\u001b[0;34m,\u001b[0m\u001b[0;34m\u001b[0m\u001b[0;34m\u001b[0m\u001b[0m\n\u001b[1;32m     65\u001b[0m                 \u001b[0mfunc\u001b[0m\u001b[0;34m,\u001b[0m\u001b[0;34m\u001b[0m\u001b[0;34m\u001b[0m\u001b[0m\n",
      "\u001b[0;32m/opt/conda/lib/python3.9/site-packages/optuna/study/_optimize.py\u001b[0m in \u001b[0;36m_optimize_sequential\u001b[0;34m(study, func, n_trials, timeout, catch, callbacks, gc_after_trial, reseed_sampler_rng, time_start, progress_bar)\u001b[0m\n\u001b[1;32m    158\u001b[0m \u001b[0;34m\u001b[0m\u001b[0m\n\u001b[1;32m    159\u001b[0m         \u001b[0;32mtry\u001b[0m\u001b[0;34m:\u001b[0m\u001b[0;34m\u001b[0m\u001b[0;34m\u001b[0m\u001b[0m\n\u001b[0;32m--> 160\u001b[0;31m             \u001b[0mfrozen_trial\u001b[0m \u001b[0;34m=\u001b[0m \u001b[0m_run_trial\u001b[0m\u001b[0;34m(\u001b[0m\u001b[0mstudy\u001b[0m\u001b[0;34m,\u001b[0m \u001b[0mfunc\u001b[0m\u001b[0;34m,\u001b[0m \u001b[0mcatch\u001b[0m\u001b[0;34m)\u001b[0m\u001b[0;34m\u001b[0m\u001b[0;34m\u001b[0m\u001b[0m\n\u001b[0m\u001b[1;32m    161\u001b[0m         \u001b[0;32mfinally\u001b[0m\u001b[0;34m:\u001b[0m\u001b[0;34m\u001b[0m\u001b[0;34m\u001b[0m\u001b[0m\n\u001b[1;32m    162\u001b[0m             \u001b[0;31m# The following line mitigates memory problems that can be occurred in some\u001b[0m\u001b[0;34m\u001b[0m\u001b[0;34m\u001b[0m\u001b[0m\n",
      "\u001b[0;32m/opt/conda/lib/python3.9/site-packages/optuna/study/_optimize.py\u001b[0m in \u001b[0;36m_run_trial\u001b[0;34m(study, func, catch)\u001b[0m\n\u001b[1;32m    246\u001b[0m         \u001b[0;32mand\u001b[0m \u001b[0;32mnot\u001b[0m \u001b[0misinstance\u001b[0m\u001b[0;34m(\u001b[0m\u001b[0mfunc_err\u001b[0m\u001b[0;34m,\u001b[0m \u001b[0mcatch\u001b[0m\u001b[0;34m)\u001b[0m\u001b[0;34m\u001b[0m\u001b[0;34m\u001b[0m\u001b[0m\n\u001b[1;32m    247\u001b[0m     ):\n\u001b[0;32m--> 248\u001b[0;31m         \u001b[0;32mraise\u001b[0m \u001b[0mfunc_err\u001b[0m\u001b[0;34m\u001b[0m\u001b[0;34m\u001b[0m\u001b[0m\n\u001b[0m\u001b[1;32m    249\u001b[0m     \u001b[0;32mreturn\u001b[0m \u001b[0mfrozen_trial\u001b[0m\u001b[0;34m\u001b[0m\u001b[0;34m\u001b[0m\u001b[0m\n\u001b[1;32m    250\u001b[0m \u001b[0;34m\u001b[0m\u001b[0m\n",
      "\u001b[0;32m/opt/conda/lib/python3.9/site-packages/optuna/study/_optimize.py\u001b[0m in \u001b[0;36m_run_trial\u001b[0;34m(study, func, catch)\u001b[0m\n\u001b[1;32m    195\u001b[0m     \u001b[0;32mwith\u001b[0m \u001b[0mget_heartbeat_thread\u001b[0m\u001b[0;34m(\u001b[0m\u001b[0mtrial\u001b[0m\u001b[0;34m.\u001b[0m\u001b[0m_trial_id\u001b[0m\u001b[0;34m,\u001b[0m \u001b[0mstudy\u001b[0m\u001b[0;34m.\u001b[0m\u001b[0m_storage\u001b[0m\u001b[0;34m)\u001b[0m\u001b[0;34m:\u001b[0m\u001b[0;34m\u001b[0m\u001b[0;34m\u001b[0m\u001b[0m\n\u001b[1;32m    196\u001b[0m         \u001b[0;32mtry\u001b[0m\u001b[0;34m:\u001b[0m\u001b[0;34m\u001b[0m\u001b[0;34m\u001b[0m\u001b[0m\n\u001b[0;32m--> 197\u001b[0;31m             \u001b[0mvalue_or_values\u001b[0m \u001b[0;34m=\u001b[0m \u001b[0mfunc\u001b[0m\u001b[0;34m(\u001b[0m\u001b[0mtrial\u001b[0m\u001b[0;34m)\u001b[0m\u001b[0;34m\u001b[0m\u001b[0;34m\u001b[0m\u001b[0m\n\u001b[0m\u001b[1;32m    198\u001b[0m         \u001b[0;32mexcept\u001b[0m \u001b[0mexceptions\u001b[0m\u001b[0;34m.\u001b[0m\u001b[0mTrialPruned\u001b[0m \u001b[0;32mas\u001b[0m \u001b[0me\u001b[0m\u001b[0;34m:\u001b[0m\u001b[0;34m\u001b[0m\u001b[0;34m\u001b[0m\u001b[0m\n\u001b[1;32m    199\u001b[0m             \u001b[0;31m# TODO(mamu): Handle multi-objective cases.\u001b[0m\u001b[0;34m\u001b[0m\u001b[0;34m\u001b[0m\u001b[0m\n",
      "\u001b[0;32m/tmp/ipykernel_146/3614496921.py\u001b[0m in \u001b[0;36mobjective\u001b[0;34m(trial)\u001b[0m\n\u001b[1;32m     74\u001b[0m \u001b[0;34m\u001b[0m\u001b[0m\n\u001b[1;32m     75\u001b[0m     \u001b[0;31m# 모델 학습\u001b[0m\u001b[0;34m\u001b[0m\u001b[0;34m\u001b[0m\u001b[0m\n\u001b[0;32m---> 76\u001b[0;31m     \u001b[0mtotal_loss\u001b[0m \u001b[0;34m=\u001b[0m \u001b[0mtrain\u001b[0m\u001b[0;34m(\u001b[0m\u001b[0mmodel\u001b[0m\u001b[0;34m,\u001b[0m \u001b[0mtrain_data\u001b[0m\u001b[0;34m,\u001b[0m \u001b[0moptimizer\u001b[0m\u001b[0;34m,\u001b[0m \u001b[0mloss_fn\u001b[0m\u001b[0;34m,\u001b[0m \u001b[0mbatch_size\u001b[0m\u001b[0;34m,\u001b[0m \u001b[0mepochs\u001b[0m\u001b[0;34m)\u001b[0m\u001b[0;34m\u001b[0m\u001b[0;34m\u001b[0m\u001b[0m\n\u001b[0m\u001b[1;32m     77\u001b[0m \u001b[0;34m\u001b[0m\u001b[0m\n\u001b[1;32m     78\u001b[0m     \u001b[0;31m# 성능 평가\u001b[0m\u001b[0;34m\u001b[0m\u001b[0;34m\u001b[0m\u001b[0m\n",
      "\u001b[0;32m/tmp/ipykernel_146/3614496921.py\u001b[0m in \u001b[0;36mtrain\u001b[0;34m(model, train_data, optimizer, loss_fn, batch_size, epochs)\u001b[0m\n\u001b[1;32m     48\u001b[0m             \u001b[0moptimizer\u001b[0m\u001b[0;34m.\u001b[0m\u001b[0mzero_grad\u001b[0m\u001b[0;34m(\u001b[0m\u001b[0;34m)\u001b[0m\u001b[0;34m\u001b[0m\u001b[0;34m\u001b[0m\u001b[0m\n\u001b[1;32m     49\u001b[0m             \u001b[0mloss\u001b[0m\u001b[0;34m.\u001b[0m\u001b[0mbackward\u001b[0m\u001b[0;34m(\u001b[0m\u001b[0;34m)\u001b[0m\u001b[0;34m\u001b[0m\u001b[0;34m\u001b[0m\u001b[0m\n\u001b[0;32m---> 50\u001b[0;31m             \u001b[0moptimizer\u001b[0m\u001b[0;34m.\u001b[0m\u001b[0mstep\u001b[0m\u001b[0;34m(\u001b[0m\u001b[0;34m)\u001b[0m\u001b[0;34m\u001b[0m\u001b[0;34m\u001b[0m\u001b[0m\n\u001b[0m\u001b[1;32m     51\u001b[0m \u001b[0;34m\u001b[0m\u001b[0m\n\u001b[1;32m     52\u001b[0m             \u001b[0mtotal_loss\u001b[0m \u001b[0;34m+=\u001b[0m \u001b[0mloss\u001b[0m\u001b[0;34m.\u001b[0m\u001b[0mitem\u001b[0m\u001b[0;34m(\u001b[0m\u001b[0;34m)\u001b[0m\u001b[0;34m\u001b[0m\u001b[0;34m\u001b[0m\u001b[0m\n",
      "\u001b[0;32m/opt/conda/lib/python3.9/site-packages/torch/optim/optimizer.py\u001b[0m in \u001b[0;36mwrapper\u001b[0;34m(*args, **kwargs)\u001b[0m\n\u001b[1;32m     86\u001b[0m                 \u001b[0mprofile_name\u001b[0m \u001b[0;34m=\u001b[0m \u001b[0;34m\"Optimizer.step#{}.step\"\u001b[0m\u001b[0;34m.\u001b[0m\u001b[0mformat\u001b[0m\u001b[0;34m(\u001b[0m\u001b[0mobj\u001b[0m\u001b[0;34m.\u001b[0m\u001b[0m__class__\u001b[0m\u001b[0;34m.\u001b[0m\u001b[0m__name__\u001b[0m\u001b[0;34m)\u001b[0m\u001b[0;34m\u001b[0m\u001b[0;34m\u001b[0m\u001b[0m\n\u001b[1;32m     87\u001b[0m                 \u001b[0;32mwith\u001b[0m \u001b[0mtorch\u001b[0m\u001b[0;34m.\u001b[0m\u001b[0mautograd\u001b[0m\u001b[0;34m.\u001b[0m\u001b[0mprofiler\u001b[0m\u001b[0;34m.\u001b[0m\u001b[0mrecord_function\u001b[0m\u001b[0;34m(\u001b[0m\u001b[0mprofile_name\u001b[0m\u001b[0;34m)\u001b[0m\u001b[0;34m:\u001b[0m\u001b[0;34m\u001b[0m\u001b[0;34m\u001b[0m\u001b[0m\n\u001b[0;32m---> 88\u001b[0;31m                     \u001b[0;32mreturn\u001b[0m \u001b[0mfunc\u001b[0m\u001b[0;34m(\u001b[0m\u001b[0;34m*\u001b[0m\u001b[0margs\u001b[0m\u001b[0;34m,\u001b[0m \u001b[0;34m**\u001b[0m\u001b[0mkwargs\u001b[0m\u001b[0;34m)\u001b[0m\u001b[0;34m\u001b[0m\u001b[0;34m\u001b[0m\u001b[0m\n\u001b[0m\u001b[1;32m     89\u001b[0m             \u001b[0;32mreturn\u001b[0m \u001b[0mwrapper\u001b[0m\u001b[0;34m\u001b[0m\u001b[0;34m\u001b[0m\u001b[0m\n\u001b[1;32m     90\u001b[0m \u001b[0;34m\u001b[0m\u001b[0m\n",
      "\u001b[0;32m/opt/conda/lib/python3.9/site-packages/torch/autograd/grad_mode.py\u001b[0m in \u001b[0;36mdecorate_context\u001b[0;34m(*args, **kwargs)\u001b[0m\n\u001b[1;32m     26\u001b[0m         \u001b[0;32mdef\u001b[0m \u001b[0mdecorate_context\u001b[0m\u001b[0;34m(\u001b[0m\u001b[0;34m*\u001b[0m\u001b[0margs\u001b[0m\u001b[0;34m,\u001b[0m \u001b[0;34m**\u001b[0m\u001b[0mkwargs\u001b[0m\u001b[0;34m)\u001b[0m\u001b[0;34m:\u001b[0m\u001b[0;34m\u001b[0m\u001b[0;34m\u001b[0m\u001b[0m\n\u001b[1;32m     27\u001b[0m             \u001b[0;32mwith\u001b[0m \u001b[0mself\u001b[0m\u001b[0;34m.\u001b[0m\u001b[0m__class__\u001b[0m\u001b[0;34m(\u001b[0m\u001b[0;34m)\u001b[0m\u001b[0;34m:\u001b[0m\u001b[0;34m\u001b[0m\u001b[0;34m\u001b[0m\u001b[0m\n\u001b[0;32m---> 28\u001b[0;31m                 \u001b[0;32mreturn\u001b[0m \u001b[0mfunc\u001b[0m\u001b[0;34m(\u001b[0m\u001b[0;34m*\u001b[0m\u001b[0margs\u001b[0m\u001b[0;34m,\u001b[0m \u001b[0;34m**\u001b[0m\u001b[0mkwargs\u001b[0m\u001b[0;34m)\u001b[0m\u001b[0;34m\u001b[0m\u001b[0;34m\u001b[0m\u001b[0m\n\u001b[0m\u001b[1;32m     29\u001b[0m         \u001b[0;32mreturn\u001b[0m \u001b[0mcast\u001b[0m\u001b[0;34m(\u001b[0m\u001b[0mF\u001b[0m\u001b[0;34m,\u001b[0m \u001b[0mdecorate_context\u001b[0m\u001b[0;34m)\u001b[0m\u001b[0;34m\u001b[0m\u001b[0;34m\u001b[0m\u001b[0m\n\u001b[1;32m     30\u001b[0m \u001b[0;34m\u001b[0m\u001b[0m\n",
      "\u001b[0;32m/opt/conda/lib/python3.9/site-packages/torch/optim/adam.py\u001b[0m in \u001b[0;36mstep\u001b[0;34m(self, closure)\u001b[0m\n\u001b[1;32m    105\u001b[0m                     \u001b[0mstate_steps\u001b[0m\u001b[0;34m.\u001b[0m\u001b[0mappend\u001b[0m\u001b[0;34m(\u001b[0m\u001b[0mstate\u001b[0m\u001b[0;34m[\u001b[0m\u001b[0;34m'step'\u001b[0m\u001b[0;34m]\u001b[0m\u001b[0;34m)\u001b[0m\u001b[0;34m\u001b[0m\u001b[0;34m\u001b[0m\u001b[0m\n\u001b[1;32m    106\u001b[0m \u001b[0;34m\u001b[0m\u001b[0m\n\u001b[0;32m--> 107\u001b[0;31m             F.adam(params_with_grad,\n\u001b[0m\u001b[1;32m    108\u001b[0m                    \u001b[0mgrads\u001b[0m\u001b[0;34m,\u001b[0m\u001b[0;34m\u001b[0m\u001b[0;34m\u001b[0m\u001b[0m\n\u001b[1;32m    109\u001b[0m                    \u001b[0mexp_avgs\u001b[0m\u001b[0;34m,\u001b[0m\u001b[0;34m\u001b[0m\u001b[0;34m\u001b[0m\u001b[0m\n",
      "\u001b[0;32m/opt/conda/lib/python3.9/site-packages/torch/optim/_functional.py\u001b[0m in \u001b[0;36madam\u001b[0;34m(params, grads, exp_avgs, exp_avg_sqs, max_exp_avg_sqs, state_steps, amsgrad, beta1, beta2, lr, weight_decay, eps)\u001b[0m\n\u001b[1;32m     92\u001b[0m             \u001b[0mdenom\u001b[0m \u001b[0;34m=\u001b[0m \u001b[0;34m(\u001b[0m\u001b[0mmax_exp_avg_sqs\u001b[0m\u001b[0;34m[\u001b[0m\u001b[0mi\u001b[0m\u001b[0;34m]\u001b[0m\u001b[0;34m.\u001b[0m\u001b[0msqrt\u001b[0m\u001b[0;34m(\u001b[0m\u001b[0;34m)\u001b[0m \u001b[0;34m/\u001b[0m \u001b[0mmath\u001b[0m\u001b[0;34m.\u001b[0m\u001b[0msqrt\u001b[0m\u001b[0;34m(\u001b[0m\u001b[0mbias_correction2\u001b[0m\u001b[0;34m)\u001b[0m\u001b[0;34m)\u001b[0m\u001b[0;34m.\u001b[0m\u001b[0madd_\u001b[0m\u001b[0;34m(\u001b[0m\u001b[0meps\u001b[0m\u001b[0;34m)\u001b[0m\u001b[0;34m\u001b[0m\u001b[0;34m\u001b[0m\u001b[0m\n\u001b[1;32m     93\u001b[0m         \u001b[0;32melse\u001b[0m\u001b[0;34m:\u001b[0m\u001b[0;34m\u001b[0m\u001b[0;34m\u001b[0m\u001b[0m\n\u001b[0;32m---> 94\u001b[0;31m             \u001b[0mdenom\u001b[0m \u001b[0;34m=\u001b[0m \u001b[0;34m(\u001b[0m\u001b[0mexp_avg_sq\u001b[0m\u001b[0;34m.\u001b[0m\u001b[0msqrt\u001b[0m\u001b[0;34m(\u001b[0m\u001b[0;34m)\u001b[0m \u001b[0;34m/\u001b[0m \u001b[0mmath\u001b[0m\u001b[0;34m.\u001b[0m\u001b[0msqrt\u001b[0m\u001b[0;34m(\u001b[0m\u001b[0mbias_correction2\u001b[0m\u001b[0;34m)\u001b[0m\u001b[0;34m)\u001b[0m\u001b[0;34m.\u001b[0m\u001b[0madd_\u001b[0m\u001b[0;34m(\u001b[0m\u001b[0meps\u001b[0m\u001b[0;34m)\u001b[0m\u001b[0;34m\u001b[0m\u001b[0;34m\u001b[0m\u001b[0m\n\u001b[0m\u001b[1;32m     95\u001b[0m \u001b[0;34m\u001b[0m\u001b[0m\n\u001b[1;32m     96\u001b[0m         \u001b[0mstep_size\u001b[0m \u001b[0;34m=\u001b[0m \u001b[0mlr\u001b[0m \u001b[0;34m/\u001b[0m \u001b[0mbias_correction1\u001b[0m\u001b[0;34m\u001b[0m\u001b[0;34m\u001b[0m\u001b[0m\n",
      "\u001b[0;31mKeyboardInterrupt\u001b[0m: "
     ]
    }
   ],
   "source": [
    "import optuna\n",
    "import torch\n",
    "import torch.nn as nn\n",
    "import torch.optim as optim\n",
    "\n",
    "# GRU4Rec 모델 정의 (기존에 사용하던 모델)\n",
    "class GRU4Rec(nn.Module):\n",
    "    def __init__(self, input_size, hidden_size, output_size, num_layers=1):\n",
    "        super(GRU4Rec, self).__init__()\n",
    "        self.embedding = nn.Embedding(input_size, hidden_size)\n",
    "        self.gru = nn.GRU(hidden_size, hidden_size, num_layers=num_layers, batch_first=True)\n",
    "        self.fc = nn.Linear(hidden_size, output_size)\n",
    "\n",
    "    def forward(self, x):\n",
    "        x = self.embedding(x)\n",
    "        out, _ = self.gru(x)\n",
    "        out = self.fc(out[:, -1, :])  # 마지막 시퀀스의 출력을 사용\n",
    "        return out\n",
    "\n",
    "# 모델 생성 함수\n",
    "def create_model(input_size, output_size, learning_rate, hidden_size, batch_size, num_layers):\n",
    "    model = GRU4Rec(input_size, hidden_size, output_size, num_layers)\n",
    "    optimizer = optim.Adam(model.parameters(), lr=learning_rate)\n",
    "    return model, optimizer\n",
    "\n",
    "# 학습 함수\n",
    "def train(model, train_data, optimizer, loss_fn, batch_size, epochs):\n",
    "    model.train()\n",
    "    total_loss = 0\n",
    "    for session in train_data:\n",
    "        for i in range(0, len(session) - 1, batch_size):\n",
    "            batch_session = session[i:i + batch_size]\n",
    "            if len(batch_session) < batch_size:\n",
    "                continue\n",
    "\n",
    "            inputs = torch.tensor(batch_session[:-1])\n",
    "            targets = torch.tensor(batch_session[1:])\n",
    "            inputs = torch.clamp(inputs, 0, input_size - 1)\n",
    "            targets = torch.clamp(targets, 0, input_size - 1)\n",
    "\n",
    "            inputs = inputs.view(len(batch_session) - 1, -1)\n",
    "            targets = targets.view(-1)\n",
    "\n",
    "            outputs = model(inputs)\n",
    "            outputs = outputs.view(-1, output_size)\n",
    "\n",
    "            loss = loss_fn(outputs, targets)\n",
    "            optimizer.zero_grad()\n",
    "            loss.backward()\n",
    "            optimizer.step()\n",
    "\n",
    "            total_loss += loss.item()\n",
    "    return total_loss\n",
    "\n",
    "# 성능 평가 함수\n",
    "def evaluate(model, test_data, k=20):\n",
    "    recall, mrr = recall_mrr_k(model, test_data, k)\n",
    "    return recall, mrr\n",
    "\n",
    "# Objective 함수 (Optuna가 최소화/최대화하려는 대상)\n",
    "def objective(trial):\n",
    "    # 하이퍼파라미터 설정\n",
    "    learning_rate = trial.suggest_loguniform('learning_rate', 1e-5, 1e-1)\n",
    "    batch_size = trial.suggest_categorical('batch_size', [32, 64, 128])\n",
    "    hidden_size = trial.suggest_int('hidden_size', 64, 512)\n",
    "    num_layers = trial.suggest_int('num_layers', 1, 3)\n",
    "    epochs = trial.suggest_int('epochs', 5, 20)\n",
    "\n",
    "    # 모델과 옵티마이저 생성\n",
    "    model, optimizer = create_model(input_size, output_size, learning_rate, hidden_size, batch_size, num_layers)\n",
    "    \n",
    "    # 손실 함수 설정\n",
    "    loss_fn = nn.CrossEntropyLoss()\n",
    "\n",
    "    # 모델 학습\n",
    "    total_loss = train(model, train_data, optimizer, loss_fn, batch_size, epochs)\n",
    "\n",
    "    # 성능 평가\n",
    "    recall, mrr = evaluate(model, test_data, k=20)\n",
    "    return recall  # 성능을 최대화하려면 recall 값을 반환\n",
    "\n",
    "# Optuna의 연구 객체 생성\n",
    "study = optuna.create_study(direction='maximize')  # maximize로 성능을 최대화\n",
    "study.optimize(objective, n_trials=50)  # 50번의 실험 진행\n",
    "# study.optimize(objective, n_trials=20)\n",
    "\n",
    "# 최적의 하이퍼파라미터 출력\n",
    "print(f\"Best parameters: {study.best_params}\")\n",
    "print(f\"Best score: {study.best_value}\")\n",
    "\n",
    "# 최적의 하이퍼파라미터로 모델을 재학습하고 성능 평가\n",
    "best_params = study.best_params\n",
    "model, optimizer = create_model(input_size, output_size, best_params['learning_rate'], best_params['hidden_size'],\n",
    "                                best_params['batch_size'], best_params['num_layers'])\n",
    "\n",
    "# 재학습을 위해 모델을 학습\n",
    "loss_fn = nn.CrossEntropyLoss()\n",
    "train_loss = train(model, train_data, optimizer, loss_fn, best_params['batch_size'], best_params['epochs'])\n",
    "\n",
    "# 성능 평가\n",
    "recall, mrr = evaluate(model, test_data, k=20)\n",
    "print(f\"Final performance with best parameters: Recall@20: {recall:.4f}, MRR@20: {mrr:.4f}\")"
   ]
  },
  {
   "cell_type": "code",
   "execution_count": 39,
   "id": "4fc838c5",
   "metadata": {},
   "outputs": [],
   "source": [
    "# # 최적 파라미터 적용\n",
    "\n",
    "# # 최적의 하이퍼파라미터\n",
    "# best_params = {\n",
    "#     'learning_rate': 0.0003940252326285291,\n",
    "#     'batch_size': 32,\n",
    "#     'hidden_size': 401,\n",
    "#     'num_layers': 1,\n",
    "#     'epochs': 16\n",
    "# }"
   ]
  },
  {
   "cell_type": "code",
   "execution_count": 51,
   "id": "4c241c6b",
   "metadata": {},
   "outputs": [],
   "source": [
    "epochs = 16\n",
    "batch_size = 32\n",
    "embedding_size = 50\n",
    "hidden_size = 401\n",
    "learning_rate = 0.0003940252326285291\n",
    "output_size = input_size\n",
    "num_layers = 1"
   ]
  },
  {
   "cell_type": "code",
   "execution_count": 53,
   "id": "bcb2958a",
   "metadata": {},
   "outputs": [],
   "source": [
    "import torch\n",
    "import torch.nn as nn\n",
    "\n",
    "class GRU4Rec(nn.Module):\n",
    "    def __init__(self, input_size, embedding_size, hidden_size, output_size, dropout_rate=0.1):\n",
    "        super(GRU4Rec, self).__init__()\n",
    "        \n",
    "        # Embedding Layer\n",
    "        self.embedding = nn.Embedding(input_size, embedding_size)\n",
    "        \n",
    "        # GRU Layer\n",
    "        self.gru = nn.GRU(embedding_size, hidden_size, batch_first=True, dropout=dropout_rate)\n",
    "        \n",
    "        # Fully Connected Layer\n",
    "        self.fc = nn.Linear(hidden_size, output_size)\n",
    "    \n",
    "    def forward(self, x):\n",
    "        # x: [batch_size, sequence_length]\n",
    "        x = self.embedding(x)\n",
    "        output, _ = self.gru(x)\n",
    "        output = self.fc(output[:, -1, :])  # 마지막 시퀀스만 쓰기\n",
    "        return output"
   ]
  },
  {
   "cell_type": "code",
   "execution_count": 54,
   "id": "69d7c4d6",
   "metadata": {},
   "outputs": [],
   "source": [
    "model = GRU4Rec(input_size=input_size, embedding_size=embedding_size, hidden_size=hidden_size, output_size=output_size)\n",
    "loss_fn = nn.CrossEntropyLoss()\n",
    "optimizer = torch.optim.Adam(model.parameters(), lr=learning_rate)"
   ]
  },
  {
   "cell_type": "code",
   "execution_count": 55,
   "id": "975a74eb",
   "metadata": {},
   "outputs": [],
   "source": [
    "def train(model, train_data, optimizer, loss_fn, batch_size, input_size, output_size, epochs):\n",
    "    for epoch in range(epochs):\n",
    "        total_loss = 0\n",
    "        for session in train_data:\n",
    "            for i in range(0, len(session) - 1, batch_size):\n",
    "                batch_session = session[i:i + batch_size]\n",
    "\n",
    "                # 배치 크기가 batch_size보다 작은 경우를 처리\n",
    "                if len(batch_session) < batch_size:\n",
    "                    continue  # 배치 크기가 작으면 해당 배치를 건너뜁니다.\n",
    "\n",
    "                inputs = torch.tensor(batch_session[:-1])  # 마지막 아이템 제외\n",
    "                targets = torch.tensor(batch_session[1:])  # 첫 번째 아이템 제외\n",
    "\n",
    "                # 아이템 ID가 Embedding 층의 범위를 벗어나지 않게 체크(IndexError 방지)\n",
    "                inputs = torch.clamp(inputs, 0, input_size - 1)\n",
    "                targets = torch.clamp(targets, 0, input_size - 1)\n",
    "\n",
    "                # 배치 차원 추가\n",
    "                batch_size_actual = len(batch_session) - 1  # 실제 배치 크기\n",
    "                inputs = inputs.view(batch_size_actual, -1)  # 실제 배치 크기에 맞게 뷰 수정\n",
    "                targets = targets.view(-1)  # 타겟은 1차원 벡터로 변환\n",
    "\n",
    "                # 모델 출력은 (batch_size, sequence_length, output_size) 형태\n",
    "                outputs = model(inputs)\n",
    "\n",
    "                # outputs를 (batch_size * sequence_length, output_size) 형태로 reshape\n",
    "                outputs = outputs.view(-1, output_size)\n",
    "\n",
    "                # 손실 계산\n",
    "                loss = loss_fn(outputs, targets)\n",
    "\n",
    "                optimizer.zero_grad()\n",
    "                loss.backward()\n",
    "                optimizer.step()\n",
    "\n",
    "                total_loss += loss.item()\n",
    "\n",
    "        # Epoch마다 출력\n",
    "        print(f\"Epoch {epoch+1}/{epochs}, Loss: {total_loss:.4f}\")"
   ]
  },
  {
   "cell_type": "code",
   "execution_count": 56,
   "id": "fc580d0e",
   "metadata": {},
   "outputs": [],
   "source": [
    "# 성능 평가를 수행하는 함수\n",
    "def evaluate(model, test_data, k=20):\n",
    "    recall, mrr = recall_mrr_k(model, test_data, k)  # Recall@k, MRR@k 계산\n",
    "    return recall, mrr"
   ]
  },
  {
   "cell_type": "code",
   "execution_count": 57,
   "id": "dff66a7f",
   "metadata": {},
   "outputs": [
    {
     "name": "stdout",
     "output_type": "stream",
     "text": [
      "Epoch 1/16, Loss: 182294.8231\n",
      "Epoch 2/16, Loss: 169761.8003\n",
      "Epoch 3/16, Loss: 165403.4636\n",
      "Epoch 4/16, Loss: 162875.3186\n",
      "Epoch 5/16, Loss: 161152.3668\n",
      "Epoch 6/16, Loss: 159877.9236\n",
      "Epoch 7/16, Loss: 158886.2782\n",
      "Epoch 8/16, Loss: 158088.8047\n",
      "Epoch 9/16, Loss: 157432.4378\n",
      "Epoch 10/16, Loss: 156882.5401\n",
      "Epoch 11/16, Loss: 156415.3390\n",
      "Epoch 12/16, Loss: 156013.5779\n",
      "Epoch 13/16, Loss: 155664.8203\n",
      "Epoch 14/16, Loss: 155359.1243\n",
      "Epoch 15/16, Loss: 155088.5198\n",
      "Epoch 16/16, Loss: 154847.2024\n"
     ]
    }
   ],
   "source": [
    "# 학습을 시작하는 부분\n",
    "train(model, train_data, optimizer, loss_fn, batch_size, input_size, output_size, epochs)"
   ]
  },
  {
   "cell_type": "code",
   "execution_count": 58,
   "id": "b6cd9fa0",
   "metadata": {},
   "outputs": [
    {
     "name": "stdout",
     "output_type": "stream",
     "text": [
      "Recall@20: 27.9378, MRR@20: 3.6684\n"
     ]
    }
   ],
   "source": [
    "import torch\n",
    "import numpy as np\n",
    "\n",
    "def recall_mrr_k(model, test_data, k=20):\n",
    "    recall = 0.0\n",
    "    mrr = 0.0\n",
    "    num_samples = len(test_data)\n",
    "    \n",
    "    # 임베딩 크기 확인 (가장 큰 인덱스를 구함)\n",
    "    max_index = model.embedding.num_embeddings - 1\n",
    "    \n",
    "    for session in test_data:\n",
    "        inputs = torch.tensor(session[:-1], dtype=torch.long)  # dtype 추가\n",
    "        targets = torch.tensor(session[1:], dtype=torch.long)  # dtype 추가\n",
    "\n",
    "        # 인덱스를 임베딩 범위 내로 클리핑\n",
    "        max_index = model.embedding.num_embeddings - 1\n",
    "        inputs = torch.clamp(inputs, 0, max_index)\n",
    "        inputs = inputs.unsqueeze(-1)\n",
    "\n",
    "        outputs = model(inputs).squeeze(0).detach().numpy()\n",
    "\n",
    "        if len(outputs.shape) == 1:\n",
    "            outputs = outputs.reshape(1, -1)\n",
    "\n",
    "        top_k = np.argsort(outputs, axis=1)[:, -k:]\n",
    "\n",
    "        for i, target in enumerate(targets):\n",
    "            target_idx = np.where(top_k[i] == target.item())[0]\n",
    "            if len(target_idx) > 0:\n",
    "                recall += 1.0\n",
    "                mrr += 1.0 / (target_idx[0] + 1)\n",
    "\n",
    "    recall /= num_samples\n",
    "    mrr /= num_samples\n",
    "    \n",
    "    return recall, mrr\n",
    "\n",
    "# 테스트 데이터로 평가\n",
    "test_data = train_data.sample(frac=0.2)\n",
    "recall, mrr = recall_mrr_k(model, test_data)\n",
    "print(f\"Recall@20: {recall:.4f}, MRR@20: {mrr:.4f}\")"
   ]
  },
  {
   "cell_type": "markdown",
   "id": "a587bfdb",
   "metadata": {},
   "source": [
    "<br>\n",
    "<br>\n",
    "<br>"
   ]
  },
  {
   "cell_type": "markdown",
   "id": "5767dfe2",
   "metadata": {},
   "source": [
    "# 최종 결과 비교\n",
    "#### 1. 세션 기준 30분, GRU4Rec 모델\n",
    "- Epoch `10`에서 최소 Loss:`77223.18368005753`로 정리됨\n",
    "- `Recall@20: 0.3607, MRR@20: 0.0448`\n",
    "- ∴ Recall은 약 36%, MRR은 약 0.04로 중간 정도의 성능을 낸다고 결론\n",
    "\n",
    "<br>\n",
    "\n",
    "#### 2. 세션 기준 60분, GRU4Rec 모델\n",
    "- 하이퍼파라미터 : 드롭아웃 적용 및 learing_rate를 `1e-4`로 작게 설정하여 재학습\n",
    "- Epoch `10`에서 최소 Loss:`72729.29730373621`로 정리됨\n",
    "- `Recall@20: 0.3999, MRR@20: 0.0469`\n",
    "- ∴ Recall은 약 40%(이전보다 상승), MRR은 0.04로 Recall 위주로 성능 상승됨으로 결론\n",
    "\n",
    "<br>\n",
    "\n",
    "#### 3. 세션 기준 60분, 모델 변경: GRU4Rec ➡️ LSTM4Rec\n",
    "- 이전에 찾았던 [kt NexR 기술블로그 자료](https://tech.nexr.kr/771417b9-e1a0-4c79-8555-0f578c482c25)에서도 알 수 있듯, 이 데이터셋을 활용해 실험한 결과와 유사하게, GRU3Rec 모델이 근소하게 더 잘나옴을 알 수 있었음\n",
    "- Epoch `10`에서 최소 Loss:`84065.55984950066`로 정리됨(커널 이슈로 재실행 후 Loss는 \"82548.3940346241\")\n",
    "  - Loss 값의 시작이 아주 크지만, 그만큼 감소폭이 크게 작용하였음\n",
    "- ∴ <span style=\"background-color:#FFE6E6\">다만, 메모리 초과 이슈로 인해 성능 지표를 최종적으로 확인하지 못함.</span>\n",
    "\n",
    "<br>\n",
    "\n",
    "#### 4. 세션 기준 60분, GRU4Rec 모델, 드롭아웃 감소, lr 동적 조정 적용\n",
    "- 모델 : 더 성능이 좋았던 GRU4Rec로 다시 변경\n",
    "- 하이퍼파라미터 : 드롭아웃을 0.2 -> 0.1로 조정,learing_rate를 동적으로 조정하여 재학습\n",
    "- Epoch `10`에서 최소 Loss:`81820.9533610344`로 정리됨\n",
    "- `Recall@20: 0.2417, MRR@20: 0.0328`\n",
    "- ∴ Recall은 약 24%(하락), MRR은 0.03으로 역시 하락\n",
    "\n",
    "<br>\n",
    "\n",
    "\n",
    "---\n",
    "- 번외\n",
    "    - Recall은 약 21%, MRR은 2.58 정도로 낮은 성능\n",
    "    - Loss 역시 79226.3202 정도로 크게 개선점 없음\n",
    "    - 튜닝 결과도 유사\n",
    "      - 튜닝으로 나온 수치를 적용했으나, 2번 케이스만큼의 성능을 보이지 못했으며 Loss가 큼\n",
    "        - Recall은 약 28%, MRR은 0.04정도로 크게 유의미하지 않음\n",
    "      ```python\n",
    "        epochs = 16\n",
    "        batch_size = 32\n",
    "        embedding_size = 50\n",
    "        hidden_size = 401\n",
    "        learning_rate = 0.0003940252326285291\n",
    "        output_size = input_size\n",
    "        num_layers = 1\n",
    "      ```\n",
    "---\n",
    "\n",
    "<br>\n",
    "\n",
    "### 최종 결론: 2번째 케이스가 가장 좋은 성능을 보임\n",
    "- 세션 기준 : 60분\n",
    "- 모델 : GRU4Rec\n",
    "- 하이퍼파라미터\n",
    "```python\n",
    "epochs = 10\n",
    "loss_fn = nn.CrossEntropyLoss()\n",
    "optimizer = torch.optim.Adam(model.parameters(), lr=1e-4) # lr 줄이기\n",
    "batch_size = 64\n",
    "dropout_rate = 0.2 # 드롭아웃 적용\n",
    "```"
   ]
  },
  {
   "cell_type": "markdown",
   "id": "9fdc2e27",
   "metadata": {},
   "source": [
    "<br>\n",
    "<br>\n",
    "<br>"
   ]
  },
  {
   "cell_type": "markdown",
   "id": "cfeb0e82",
   "metadata": {},
   "source": [
    "# 회고\n",
    "Movie Lens 데이터를 활용하며 우선 먼저 이 데이터가 무엇인지에 대해서 찾아보는 데에 시간을 많이 쏟았던 것 같습니다.\n",
    "- [MovieLens](https://grouplens.org/datasets/movielens/)\n",
    "- [kaggle/MovieLens 20M Dataset](https://www.kaggle.com/datasets/grouplens/movielens-20m-dataset)\n",
    "- [tistory.com/Content Based Filtering(CB)-3.코드와 함께 이해하기[MovieLens 데이터]](https://david-skawns.tistory.com/4)\n",
    "\n",
    "이 과정을 통해 원래의 movielens 데이터셋이 가진 특징 중에서, 현재 제공받은 데이터셋에서 활용할 수 있는 특징들을 정리했습니다.\n",
    "> - u.data : feature는 userId, movieId, rating, timestamp로 구성\n",
    ">   - 유저 정보, 영화 정보, 평점, 시간으로 구성\n",
    "> - u.item : 영화(아이템)의 메타 정보 ➡️ ItemId로만 제공 받음\n",
    "\n",
    "\n",
    "총 3가지 버전(모델 변경 시 메모리 문제를 해결하지 못해 3번째 테스트는 결과를 내지 못함)으로 모델링을 진행해봤는데 결론적으로 Racall이 상승하며 Loss가 줄어든 점, MRR도 점점 올리간 점으로 미루어봤을 때, 튜닝이 더 진행된다면 더 좋은 성능을 낼 것으로 최종 파악할 수 있었어요.\n",
    "<br>\n",
    "다만, 상승폭이 매우 작았기 때문에 과연 유의미한가?에 대한 질문에는 아직은..아니오라고 대답을 해야할 것 같아 다소 아쉽습니다.\n",
    "<br>\n",
    "\n",
    "또한 학습을 시키는 데에 있어서 아쉬웠던 점은, Epoch에 있어서 early stopping을 걸어줬으면 조금 더 빠르게 테스트를 여러 번 진행해볼 수 있었을 것 같아 이를 미리 생각해보지 못헀던 점이 아쉬웠습니다.\n",
    "\n",
    "이 부분들을 더 반영하여 실제 grouplens에서 제공하는 MovieLens를 이용해 영화 추천 시스템을 구현해보고 싶습니다..!\n",
    "\n",
    "<br>\n",
    "\n",
    "데이터 전처리를 조금 더 진행해서 결과를 다시 확인해봤는데, 아무래도 예측한 범위가 아닌 듯하여 여전히 아쉬운 성능을 내고 있습니다. 다른 방법을 강구해야겠습니다😅"
   ]
  }
 ],
 "metadata": {
  "kernelspec": {
   "display_name": "Python 3 (ipykernel)",
   "language": "python",
   "name": "python3"
  },
  "language_info": {
   "codemirror_mode": {
    "name": "ipython",
    "version": 3
   },
   "file_extension": ".py",
   "mimetype": "text/x-python",
   "name": "python",
   "nbconvert_exporter": "python",
   "pygments_lexer": "ipython3",
   "version": "3.9.7"
  }
 },
 "nbformat": 4,
 "nbformat_minor": 5
}
